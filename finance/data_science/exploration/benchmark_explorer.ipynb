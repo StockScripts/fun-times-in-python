{
 "cells": [
  {
   "cell_type": "code",
   "execution_count": 4,
   "metadata": {},
   "outputs": [],
   "source": [
    "import psycopg2\n",
    "import datetime\n",
    "import numpy as np\n",
    "import pandas as pd\n",
    "from itertools import islice\n",
    "\n",
    "from finance.utilities import utils\n",
    "\n",
    "import matplotlib.pyplot as plt\n",
    "from pandas.plotting import register_matplotlib_converters\n",
    "register_matplotlib_converters()"
   ]
  },
  {
   "cell_type": "markdown",
   "metadata": {},
   "source": [
    "## Moving averages"
   ]
  },
  {
   "cell_type": "code",
   "execution_count": 6,
   "metadata": {},
   "outputs": [
    {
     "data": {
      "text/html": [
       "<div>\n",
       "<style scoped>\n",
       "    .dataframe tbody tr th:only-of-type {\n",
       "        vertical-align: middle;\n",
       "    }\n",
       "\n",
       "    .dataframe tbody tr th {\n",
       "        vertical-align: top;\n",
       "    }\n",
       "\n",
       "    .dataframe thead th {\n",
       "        text-align: right;\n",
       "    }\n",
       "</style>\n",
       "<table border=\"1\" class=\"dataframe\">\n",
       "  <thead>\n",
       "    <tr style=\"text-align: right;\">\n",
       "      <th></th>\n",
       "      <th>market_datetime</th>\n",
       "      <th>model_type</th>\n",
       "      <th>profit_loss</th>\n",
       "      <th>ingest_datetime</th>\n",
       "    </tr>\n",
       "  </thead>\n",
       "  <tbody>\n",
       "    <tr>\n",
       "      <th>0</th>\n",
       "      <td>1999-09-28 05:00:00</td>\n",
       "      <td>moving_average_five_twenty_days</td>\n",
       "      <td>0.030424</td>\n",
       "      <td>2019-10-03 02:22:56.886450</td>\n",
       "    </tr>\n",
       "    <tr>\n",
       "      <th>1</th>\n",
       "      <td>1999-09-29 05:00:00</td>\n",
       "      <td>moving_average_five_twenty_days</td>\n",
       "      <td>0.046477</td>\n",
       "      <td>2019-10-03 02:22:56.886450</td>\n",
       "    </tr>\n",
       "    <tr>\n",
       "      <th>2</th>\n",
       "      <td>1999-09-30 05:00:00</td>\n",
       "      <td>moving_average_five_twenty_days</td>\n",
       "      <td>-0.401757</td>\n",
       "      <td>2019-10-03 02:22:56.886450</td>\n",
       "    </tr>\n",
       "    <tr>\n",
       "      <th>3</th>\n",
       "      <td>1999-10-01 05:00:00</td>\n",
       "      <td>moving_average_five_twenty_days</td>\n",
       "      <td>-1.847121</td>\n",
       "      <td>2019-10-03 02:22:56.886450</td>\n",
       "    </tr>\n",
       "    <tr>\n",
       "      <th>4</th>\n",
       "      <td>1999-10-04 05:00:00</td>\n",
       "      <td>moving_average_five_twenty_days</td>\n",
       "      <td>-0.910658</td>\n",
       "      <td>2019-10-03 02:22:56.886450</td>\n",
       "    </tr>\n",
       "  </tbody>\n",
       "</table>\n",
       "</div>"
      ],
      "text/plain": [
       "      market_datetime                       model_type  profit_loss  \\\n",
       "0 1999-09-28 05:00:00  moving_average_five_twenty_days     0.030424   \n",
       "1 1999-09-29 05:00:00  moving_average_five_twenty_days     0.046477   \n",
       "2 1999-09-30 05:00:00  moving_average_five_twenty_days    -0.401757   \n",
       "3 1999-10-01 05:00:00  moving_average_five_twenty_days    -1.847121   \n",
       "4 1999-10-04 05:00:00  moving_average_five_twenty_days    -0.910658   \n",
       "\n",
       "             ingest_datetime  \n",
       "0 2019-10-03 02:22:56.886450  \n",
       "1 2019-10-03 02:22:56.886450  \n",
       "2 2019-10-03 02:22:56.886450  \n",
       "3 2019-10-03 02:22:56.886450  \n",
       "4 2019-10-03 02:22:56.886450  "
      ]
     },
     "execution_count": 6,
     "metadata": {},
     "output_type": "execute_result"
    }
   ],
   "source": [
    "query = \"\"\"\n",
    "    select *\n",
    "    from validation.benchmarks\n",
    "    order by market_datetime\n",
    "    \"\"\"\n",
    "\n",
    "df = utils.query_db(db_connection=utils.DW_STOCKS_JUPYTER, query=query)\n",
    "df.head()"
   ]
  },
  {
   "cell_type": "code",
   "execution_count": 9,
   "metadata": {},
   "outputs": [
    {
     "data": {
      "image/png": "[encoded data removed]",
      "text/plain": [
       "<Figure size 432x288 with 1 Axes>"
      ]
     },
     "metadata": {
      "needs_background": "light"
     },
     "output_type": "display_data"
    }
   ],
   "source": [
    "plt.plot(df['profit_loss'])\n",
    "plt.show()"
   ]
  },
  {
   "cell_type": "code",
   "execution_count": null,
   "metadata": {},
   "outputs": [],
   "source": []
  }
 ],
 "metadata": {
  "kernelspec": {
   "display_name": "Python 3",
   "language": "python",
   "name": "python3"
  },
  "language_info": {
   "codemirror_mode": {
    "name": "ipython",
    "version": 3
   },
   "file_extension": ".py",
   "mimetype": "text/x-python",
   "name": "python",
   "nbconvert_exporter": "python",
   "pygments_lexer": "ipython3",
   "version": "3.6.8"
  }
 },
 "nbformat": 4,
 "nbformat_minor": 2
}
