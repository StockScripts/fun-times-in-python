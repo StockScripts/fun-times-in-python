{
 "cells": [
  {
   "cell_type": "code",
   "execution_count": 121,
   "metadata": {},
   "outputs": [],
   "source": [
    "import psycopg2\n",
    "import datetime\n",
    "import numpy as np\n",
    "import pandas as pd\n",
    "from itertools import islice\n",
    "from sklearn import preprocessing\n",
    "\n",
    "import matplotlib.pyplot as plt\n",
    "from pandas.plotting import register_matplotlib_converters\n",
    "\n",
    "import scipy\n",
    "from sklearn.linear_model import LinearRegression\n",
    "\n",
    "from finance.utilities import utils\n",
    "from finance.data_science.utilities import (financial_utils, time_series_utils, \n",
    "                                            cluster_utils, random_forest_utils, nn_utils)"
   ]
  },
  {
   "cell_type": "markdown",
   "metadata": {},
   "source": [
    "### Get stock data"
   ]
  },
  {
   "cell_type": "code",
   "execution_count": 124,
   "metadata": {},
   "outputs": [
    {
     "data": {
      "text/html": [
       "<div>\n",
       "<style scoped>\n",
       "    .dataframe tbody tr th:only-of-type {\n",
       "        vertical-align: middle;\n",
       "    }\n",
       "\n",
       "    .dataframe tbody tr th {\n",
       "        vertical-align: top;\n",
       "    }\n",
       "\n",
       "    .dataframe thead th {\n",
       "        text-align: right;\n",
       "    }\n",
       "</style>\n",
       "<table border=\"1\" class=\"dataframe\">\n",
       "  <thead>\n",
       "    <tr style=\"text-align: right;\">\n",
       "      <th></th>\n",
       "      <th>market_datetime</th>\n",
       "      <th>_year</th>\n",
       "      <th>month_of_year</th>\n",
       "      <th>week_of_year</th>\n",
       "      <th>symbol</th>\n",
       "      <th>sector</th>\n",
       "      <th>industry</th>\n",
       "      <th>open</th>\n",
       "      <th>high</th>\n",
       "      <th>low</th>\n",
       "      <th>close</th>\n",
       "      <th>volume</th>\n",
       "    </tr>\n",
       "  </thead>\n",
       "  <tbody>\n",
       "    <tr>\n",
       "      <th>0</th>\n",
       "      <td>2019-01-09 06:00:00</td>\n",
       "      <td>2019.0</td>\n",
       "      <td>1.0</td>\n",
       "      <td>2.0</td>\n",
       "      <td>WEC</td>\n",
       "      <td>Public Utilities</td>\n",
       "      <td>Power Generation</td>\n",
       "      <td>68.48</td>\n",
       "      <td>68.92</td>\n",
       "      <td>67.92</td>\n",
       "      <td>68.24</td>\n",
       "      <td>1279205.0</td>\n",
       "    </tr>\n",
       "    <tr>\n",
       "      <th>1</th>\n",
       "      <td>2019-01-10 06:00:00</td>\n",
       "      <td>2019.0</td>\n",
       "      <td>1.0</td>\n",
       "      <td>2.0</td>\n",
       "      <td>WEC</td>\n",
       "      <td>Public Utilities</td>\n",
       "      <td>Power Generation</td>\n",
       "      <td>68.33</td>\n",
       "      <td>69.54</td>\n",
       "      <td>68.15</td>\n",
       "      <td>69.45</td>\n",
       "      <td>1069241.0</td>\n",
       "    </tr>\n",
       "    <tr>\n",
       "      <th>2</th>\n",
       "      <td>2019-01-11 06:00:00</td>\n",
       "      <td>2019.0</td>\n",
       "      <td>1.0</td>\n",
       "      <td>2.0</td>\n",
       "      <td>WEC</td>\n",
       "      <td>Public Utilities</td>\n",
       "      <td>Power Generation</td>\n",
       "      <td>69.14</td>\n",
       "      <td>69.53</td>\n",
       "      <td>68.77</td>\n",
       "      <td>69.44</td>\n",
       "      <td>1359857.0</td>\n",
       "    </tr>\n",
       "    <tr>\n",
       "      <th>3</th>\n",
       "      <td>2019-01-14 06:00:00</td>\n",
       "      <td>2019.0</td>\n",
       "      <td>1.0</td>\n",
       "      <td>3.0</td>\n",
       "      <td>WEC</td>\n",
       "      <td>Public Utilities</td>\n",
       "      <td>Power Generation</td>\n",
       "      <td>68.92</td>\n",
       "      <td>68.97</td>\n",
       "      <td>67.80</td>\n",
       "      <td>68.61</td>\n",
       "      <td>2079589.0</td>\n",
       "    </tr>\n",
       "    <tr>\n",
       "      <th>4</th>\n",
       "      <td>2019-01-15 06:00:00</td>\n",
       "      <td>2019.0</td>\n",
       "      <td>1.0</td>\n",
       "      <td>3.0</td>\n",
       "      <td>WEC</td>\n",
       "      <td>Public Utilities</td>\n",
       "      <td>Power Generation</td>\n",
       "      <td>68.41</td>\n",
       "      <td>70.25</td>\n",
       "      <td>68.41</td>\n",
       "      <td>69.91</td>\n",
       "      <td>1527572.0</td>\n",
       "    </tr>\n",
       "  </tbody>\n",
       "</table>\n",
       "</div>"
      ],
      "text/plain": [
       "      market_datetime   _year  month_of_year  week_of_year symbol  \\\n",
       "0 2019-01-09 06:00:00  2019.0            1.0           2.0    WEC   \n",
       "1 2019-01-10 06:00:00  2019.0            1.0           2.0    WEC   \n",
       "2 2019-01-11 06:00:00  2019.0            1.0           2.0    WEC   \n",
       "3 2019-01-14 06:00:00  2019.0            1.0           3.0    WEC   \n",
       "4 2019-01-15 06:00:00  2019.0            1.0           3.0    WEC   \n",
       "\n",
       "             sector          industry   open   high    low  close     volume  \n",
       "0  Public Utilities  Power Generation  68.48  68.92  67.92  68.24  1279205.0  \n",
       "1  Public Utilities  Power Generation  68.33  69.54  68.15  69.45  1069241.0  \n",
       "2  Public Utilities  Power Generation  69.14  69.53  68.77  69.44  1359857.0  \n",
       "3  Public Utilities  Power Generation  68.92  68.97  67.80  68.61  2079589.0  \n",
       "4  Public Utilities  Power Generation  68.41  70.25  68.41  69.91  1527572.0  "
      ]
     },
     "execution_count": 124,
     "metadata": {},
     "output_type": "execute_result"
    }
   ],
   "source": [
    "query = f\"\"\"\n",
    "    with \n",
    "    tickers as (\n",
    "    select distinct \n",
    "        ticker\n",
    "        , sector\n",
    "        , industry\n",
    "    from nasdaq.listed_stocks\n",
    "    where ticker in ('AEE' , 'WEC')\n",
    "    limit 100\n",
    "    )\n",
    "    select \n",
    "        market_datetime\n",
    "        , extract(year from market_datetime) as _year\n",
    "        , extract(month from market_datetime) as month_of_year\n",
    "        , extract(week from market_datetime) as week_of_year\n",
    "        , symbol\n",
    "        , sector\n",
    "        , industry\n",
    "        , open\n",
    "        , high\n",
    "        , low\n",
    "        , close\n",
    "        , volume\n",
    "    from td.equities as equities\n",
    "    inner join tickers\n",
    "        on tickers.ticker = equities.symbol\n",
    "    where market_datetime between '2019-01-09' and '2019-09-09'\n",
    "    \"\"\"\n",
    "\n",
    "df = utils.query_db(query=query)\n",
    "df.head()"
   ]
  },
  {
   "cell_type": "markdown",
   "metadata": {},
   "source": [
    "### Clean data"
   ]
  },
  {
   "cell_type": "code",
   "execution_count": 125,
   "metadata": {},
   "outputs": [],
   "source": [
    "df['market_datetime_month'] = df['market_datetime'].dt.month\n",
    "df['market_datetime_day_of_week'] = df['market_datetime'].dt.dayofweek\n",
    "\n",
    "df['market_datetime_int'] = df['market_datetime'].astype(int)\n",
    "\n",
    "df = cluster_utils.encode_one_hot(df, ['symbol', 'sector', 'industry', \n",
    "                                       'market_datetime_month', 'market_datetime_day_of_week'])"
   ]
  },
  {
   "cell_type": "code",
   "execution_count": 126,
   "metadata": {},
   "outputs": [],
   "source": [
    "df_symbol = df.groupby(['symbol', 'market_datetime']).mean()\n",
    "\n",
    "one = df_symbol[df_symbol.index.get_level_values('symbol').isin([df['symbol'].unique()[0]])].open\n",
    "two = df_symbol[df_symbol.index.get_level_values('symbol').isin([df['symbol'].unique()[1]])].open\n",
    "\n",
    "one = one.head(min(len(one), len(two)))\n",
    "two = two.head(min(len(one), len(two)))"
   ]
  },
  {
   "cell_type": "code",
   "execution_count": 127,
   "metadata": {},
   "outputs": [
    {
     "name": "stdout",
     "output_type": "stream",
     "text": [
      "Correlation: 0.9103280910596043\n"
     ]
    }
   ],
   "source": [
    "print('Correlation: ' + str(scipy.stats.pearsonr(one, two)[0]))"
   ]
  },
  {
   "cell_type": "code",
   "execution_count": 128,
   "metadata": {},
   "outputs": [
    {
     "data": {
      "image/png": "[encoded data removed]",
      "text/plain": [
       "<Figure size 432x288 with 1 Axes>"
      ]
     },
     "metadata": {
      "needs_background": "light"
     },
     "output_type": "display_data"
    }
   ],
   "source": [
    "plt.title('Daily Open')\n",
    "plt.plot(one.values)\n",
    "plt.plot(two.values)\n",
    "plt.show()"
   ]
  },
  {
   "cell_type": "code",
   "execution_count": 129,
   "metadata": {},
   "outputs": [],
   "source": [
    "regression = LinearRegression()\n",
    "regression.fit(X=one.values.reshape(-1, 1), y=two.values.reshape(-1, 1))\n",
    "\n",
    "prediction = regression.predict(one.values.reshape(-1, 1))"
   ]
  },
  {
   "cell_type": "code",
   "execution_count": 130,
   "metadata": {},
   "outputs": [
    {
     "data": {
      "image/png": "[encoded data removed]",
      "text/plain": [
       "<Figure size 432x288 with 1 Axes>"
      ]
     },
     "metadata": {
      "needs_background": "light"
     },
     "output_type": "display_data"
    }
   ],
   "source": [
    "plt.title('Correlation')\n",
    "plt.scatter(one, two, marker='.')\n",
    "plt.plot(one, prediction, color='r')\n",
    "plt.show()"
   ]
  },
  {
   "cell_type": "code",
   "execution_count": 131,
   "metadata": {},
   "outputs": [
    {
     "data": {
      "image/png": "[encoded data removed]",
      "text/plain": [
       "<Figure size 432x288 with 1 Axes>"
      ]
     },
     "metadata": {
      "needs_background": "light"
     },
     "output_type": "display_data"
    }
   ],
   "source": [
    "residuals = prediction - two.values.reshape(-1, 1)\n",
    "plt.title('Residuals')\n",
    "plt.hlines(0, xmin=0, xmax=len(residuals), color='r')\n",
    "plt.plot(residuals)\n",
    "plt.show()"
   ]
  },
  {
   "cell_type": "code",
   "execution_count": null,
   "metadata": {},
   "outputs": [],
   "source": []
  },
  {
   "cell_type": "code",
   "execution_count": null,
   "metadata": {},
   "outputs": [],
   "source": [
    "\"\"\"with tickers as (\n",
    "\tselect distinct \n",
    "\t\tticker\n",
    "\t\t, sector\n",
    "\t\t, industry\n",
    "\tfrom nasdaq.listed_stocks\n",
    "\tlimit 1000)\n",
    ", raw as (\n",
    "\tselect symbol\n",
    "\t\t, market_datetime\n",
    "\t\t, open\n",
    "\t\t, sector\n",
    "\t\t, industry\n",
    "\tfrom td.equities as e\n",
    "\tinner join tickers as l\n",
    "\t\ton e.symbol = l.ticker\n",
    "\twhere market_datetime > '2018-01-09')\n",
    "sectors as (\n",
    "\tselect a.market_datetime as a_market_datetime\n",
    "\t\t, a.symbol as a_symbol\n",
    "\t\t, b.symbol as b_symbol\n",
    "\t\t, a.open as a_open\n",
    "\t\t, b.open as b_open\n",
    "\tfrom raw as a\n",
    "\tinner join raw as b\n",
    "\t\ton a.symbol <> b.symbol\n",
    "\t\tand a.market_datetime = b.market_datetime\n",
    "\t\tand a.sector = b.sector\n",
    "\t\tand a.industry = b.industry\n",
    "\twhere a.market_datetime between '2019-01-09' and '2019-01-15'\n",
    ")\"\"\""
   ]
  }
 ],
 "metadata": {
  "kernelspec": {
   "display_name": "Python 3",
   "language": "python",
   "name": "python3"
  },
  "language_info": {
   "codemirror_mode": {
    "name": "ipython",
    "version": 3
   },
   "file_extension": ".py",
   "mimetype": "text/x-python",
   "name": "python",
   "nbconvert_exporter": "python",
   "pygments_lexer": "ipython3",
   "version": "3.6.5"
  }
 },
 "nbformat": 4,
 "nbformat_minor": 4
}
