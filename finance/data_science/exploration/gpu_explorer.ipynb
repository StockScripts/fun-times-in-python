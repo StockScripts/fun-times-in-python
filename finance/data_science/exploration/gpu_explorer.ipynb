{
 "cells": [
  {
   "cell_type": "code",
   "execution_count": 1,
   "metadata": {},
   "outputs": [],
   "source": [
    "import psycopg2\n",
    "import datetime\n",
    "import numpy as np\n",
    "import pandas as pd\n",
    "from itertools import islice\n",
    "\n",
    "import torch\n",
    "import torch.nn as nn\n",
    "import torch.nn.functional as F\n",
    "import torch.optim as optim\n",
    "\n",
    "from sklearn import preprocessing\n",
    "import matplotlib.pyplot as plt\n",
    "from pandas.plotting import register_matplotlib_converters\n",
    "\n",
    "from finance.utilities import utils, financial_utils, time_series_utils, cluster_utils, random_forest_utils"
   ]
  },
  {
   "cell_type": "code",
   "execution_count": 2,
   "metadata": {},
   "outputs": [],
   "source": [
    "register_matplotlib_converters()\n",
    "\n",
    "%matplotlib notebook\n",
    "%matplotlib inline"
   ]
  },
  {
   "cell_type": "markdown",
   "metadata": {},
   "source": [
    "### Stock data"
   ]
  },
  {
   "cell_type": "code",
   "execution_count": 3,
   "metadata": {},
   "outputs": [
    {
     "data": {
      "text/html": [
       "<div>\n",
       "<style scoped>\n",
       "    .dataframe tbody tr th:only-of-type {\n",
       "        vertical-align: middle;\n",
       "    }\n",
       "\n",
       "    .dataframe tbody tr th {\n",
       "        vertical-align: top;\n",
       "    }\n",
       "\n",
       "    .dataframe thead th {\n",
       "        text-align: right;\n",
       "    }\n",
       "</style>\n",
       "<table border=\"1\" class=\"dataframe\">\n",
       "  <thead>\n",
       "    <tr style=\"text-align: right;\">\n",
       "      <th></th>\n",
       "      <th>symbol</th>\n",
       "      <th>market_datetime</th>\n",
       "      <th>open</th>\n",
       "      <th>high</th>\n",
       "      <th>low</th>\n",
       "      <th>close</th>\n",
       "      <th>volume</th>\n",
       "    </tr>\n",
       "  </thead>\n",
       "  <tbody>\n",
       "    <tr>\n",
       "      <th>0</th>\n",
       "      <td>AZO</td>\n",
       "      <td>1999-09-20 05:00:00</td>\n",
       "      <td>27.125000</td>\n",
       "      <td>27.87500</td>\n",
       "      <td>27.06250</td>\n",
       "      <td>27.7500</td>\n",
       "      <td>419300.0</td>\n",
       "    </tr>\n",
       "    <tr>\n",
       "      <th>1</th>\n",
       "      <td>AMH</td>\n",
       "      <td>1999-09-20 05:00:00</td>\n",
       "      <td>23.625000</td>\n",
       "      <td>23.75000</td>\n",
       "      <td>23.50000</td>\n",
       "      <td>23.5000</td>\n",
       "      <td>3800.0</td>\n",
       "    </tr>\n",
       "    <tr>\n",
       "      <th>2</th>\n",
       "      <td>ATR</td>\n",
       "      <td>1999-09-20 05:00:00</td>\n",
       "      <td>12.656250</td>\n",
       "      <td>12.84375</td>\n",
       "      <td>12.25000</td>\n",
       "      <td>12.2500</td>\n",
       "      <td>182200.0</td>\n",
       "    </tr>\n",
       "    <tr>\n",
       "      <th>3</th>\n",
       "      <td>AZN</td>\n",
       "      <td>1999-09-20 05:00:00</td>\n",
       "      <td>10.328125</td>\n",
       "      <td>10.37500</td>\n",
       "      <td>10.28125</td>\n",
       "      <td>10.3125</td>\n",
       "      <td>915200.0</td>\n",
       "    </tr>\n",
       "    <tr>\n",
       "      <th>4</th>\n",
       "      <td>AHC</td>\n",
       "      <td>1999-09-20 05:00:00</td>\n",
       "      <td>63.437500</td>\n",
       "      <td>63.43750</td>\n",
       "      <td>62.87500</td>\n",
       "      <td>63.1250</td>\n",
       "      <td>324800.0</td>\n",
       "    </tr>\n",
       "  </tbody>\n",
       "</table>\n",
       "</div>"
      ],
      "text/plain": [
       "  symbol     market_datetime       open      high       low    close    volume\n",
       "0    AZO 1999-09-20 05:00:00  27.125000  27.87500  27.06250  27.7500  419300.0\n",
       "1    AMH 1999-09-20 05:00:00  23.625000  23.75000  23.50000  23.5000    3800.0\n",
       "2    ATR 1999-09-20 05:00:00  12.656250  12.84375  12.25000  12.2500  182200.0\n",
       "3    AZN 1999-09-20 05:00:00  10.328125  10.37500  10.28125  10.3125  915200.0\n",
       "4    AHC 1999-09-20 05:00:00  63.437500  63.43750  62.87500  63.1250  324800.0"
      ]
     },
     "execution_count": 3,
     "metadata": {},
     "output_type": "execute_result"
    }
   ],
   "source": [
    "query = \"\"\"\n",
    "    select\n",
    "        e.symbol\n",
    "        , e.market_datetime\n",
    "        , e.open\n",
    "        , e.high\n",
    "        , e.low\n",
    "        , e.close\n",
    "        , e.volume\n",
    "    from td.equities as e\n",
    "    where left(e.symbol, 1) = 'A'\n",
    "    order by e.market_datetime\n",
    "    limit 100\n",
    "    \"\"\"\n",
    "\n",
    "df = utils.query_db(db_connection=utils.DW_STOCKS_JUPYTER, query=query)\n",
    "df.head()"
   ]
  },
  {
   "cell_type": "markdown",
   "metadata": {},
   "source": [
    "### Check for gpus"
   ]
  },
  {
   "cell_type": "code",
   "execution_count": 4,
   "metadata": {},
   "outputs": [
    {
     "name": "stdout",
     "output_type": "stream",
     "text": [
      "True\n",
      "GeForce GTX 1080 Ti\n"
     ]
    }
   ],
   "source": [
    "print(torch.cuda.is_available())\n",
    "print(torch.cuda.get_device_name(1))"
   ]
  },
  {
   "cell_type": "code",
   "execution_count": 5,
   "metadata": {},
   "outputs": [],
   "source": [
    "df = cluster_utils.encode_one_hot(df=df, column='symbol')"
   ]
  },
  {
   "cell_type": "code",
   "execution_count": 6,
   "metadata": {},
   "outputs": [],
   "source": [
    "for col in ['open', 'high', 'low', 'close', 'volume']:\n",
    "    df = cluster_utils.normalize(df=df, column=col, subset='symbol')"
   ]
  },
  {
   "cell_type": "code",
   "execution_count": 7,
   "metadata": {},
   "outputs": [],
   "source": [
    "train = df.copy()\n",
    "train = train.drop(columns=['symbol'])\n",
    "train['market_datetime'] = train['market_datetime'].astype(int)"
   ]
  },
  {
   "cell_type": "code",
   "execution_count": 8,
   "metadata": {},
   "outputs": [],
   "source": [
    "train_target = train['open'].shift(-1)"
   ]
  },
  {
   "cell_type": "code",
   "execution_count": 9,
   "metadata": {},
   "outputs": [],
   "source": [
    "split_size = 80000\n",
    "train_x = train.iloc[1:split_size].values\n",
    "train_y = train_target.iloc[1:split_size].values\n",
    "\n",
    "test_x = train.iloc[split_size+1:-1].values\n",
    "test_y = train_target.iloc[split_size+1:-1].values"
   ]
  },
  {
   "cell_type": "code",
   "execution_count": 15,
   "metadata": {},
   "outputs": [
    {
     "name": "stdout",
     "output_type": "stream",
     "text": [
      "73216\n",
      "2097152\n"
     ]
    }
   ],
   "source": [
    "print(torch.cuda.memory_allocated())\n",
    "\n",
    "print(torch.cuda.memory_cached())"
   ]
  },
  {
   "cell_type": "code",
   "execution_count": 16,
   "metadata": {},
   "outputs": [],
   "source": [
    "tensor_x = torch.tensor(train_x).cuda(0)\n",
    "tensor_y = torch.tensor(train_y).cuda(0)"
   ]
  },
  {
   "cell_type": "code",
   "execution_count": 17,
   "metadata": {},
   "outputs": [],
   "source": [
    "input_size = 87\n",
    "output_size = 1\n",
    "learning_rate = 0.01 \n",
    "epochs = 100\n",
    "\n",
    "model = torch.nn.Linear(input_size, output_size).cuda(0)\n",
    "\n",
    "criterion = torch.nn.MSELoss().cuda(0)\n",
    "optimizer = torch.optim.SGD(model.parameters(), lr=learning_rate)"
   ]
  },
  {
   "cell_type": "code",
   "execution_count": 18,
   "metadata": {},
   "outputs": [
    {
     "name": "stderr",
     "output_type": "stream",
     "text": [
      "/home/nautilus/anaconda3/envs/babylon/lib/python3.6/site-packages/torch/nn/modules/loss.py:443: UserWarning: Using a target size (torch.Size([99])) that is different to the input size (torch.Size([99, 1])). This will likely lead to incorrect results due to broadcasting. Please ensure they have the same size.\n",
      "  return F.mse_loss(input, target, reduction=self.reduction)\n",
      "/home/nautilus/anaconda3/envs/babylon/lib/python3.6/site-packages/torch/nn/modules/loss.py:443: UserWarning: Using a target size (torch.Size([99])) that is different to the input size (torch.Size([99, 1])). This will likely lead to incorrect results due to broadcasting. Please ensure they have the same size.\n",
      "  return F.mse_loss(input, target, reduction=self.reduction)\n"
     ]
    }
   ],
   "source": [
    "with torch.cuda.device(1):\n",
    "    for t in range(2):\n",
    "        prediction = model(tensor_x.float()).cuda(0)\n",
    "\n",
    "        loss = criterion(prediction, tensor_y.float()).cuda(0)\n",
    "\n",
    "        optimizer.zero_grad() #.cuda(0)\n",
    "        loss.backward() #.cuda(0)\n",
    "        optimizer.step() #.cuda(0)\n",
    "        \n",
    "        loss.item()"
   ]
  },
  {
   "cell_type": "code",
   "execution_count": 14,
   "metadata": {},
   "outputs": [
    {
     "data": {
      "text/plain": [
       "nan"
      ]
     },
     "execution_count": 14,
     "metadata": {},
     "output_type": "execute_result"
    }
   ],
   "source": [
    "loss.item()"
   ]
  },
  {
   "cell_type": "code",
   "execution_count": null,
   "metadata": {},
   "outputs": [],
   "source": []
  }
 ],
 "metadata": {
  "kernelspec": {
   "display_name": "Python 3",
   "language": "python",
   "name": "python3"
  },
  "language_info": {
   "codemirror_mode": {
    "name": "ipython",
    "version": 3
   },
   "file_extension": ".py",
   "mimetype": "text/x-python",
   "name": "python",
   "nbconvert_exporter": "python",
   "pygments_lexer": "ipython3",
   "version": "3.6.8"
  }
 },
 "nbformat": 4,
 "nbformat_minor": 2
}
