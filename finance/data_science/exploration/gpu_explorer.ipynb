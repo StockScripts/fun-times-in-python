{
 "cells": [
  {
   "cell_type": "code",
   "execution_count": 1,
   "metadata": {},
   "outputs": [],
   "source": [
    "import psycopg2\n",
    "import datetime\n",
    "import numpy as np\n",
    "import pandas as pd\n",
    "from itertools import islice\n",
    "\n",
    "import torch\n",
    "import torch.nn as nn\n",
    "import torch.nn.functional as F\n",
    "import torch.optim as optim\n",
    "\n",
    "from sklearn import preprocessing\n",
    "import matplotlib.pyplot as plt\n",
    "from pandas.plotting import register_matplotlib_converters\n",
    "\n",
    "from finance.utilities import utils\n",
    "from finance.data_science.utilities import financial_utils, time_series_utils, cluster_utils, random_forest_utils"
   ]
  },
  {
   "cell_type": "code",
   "execution_count": 2,
   "metadata": {},
   "outputs": [],
   "source": [
    "register_matplotlib_converters()\n",
    "\n",
    "%matplotlib notebook\n",
    "%matplotlib inline"
   ]
  },
  {
   "cell_type": "markdown",
   "metadata": {},
   "source": [
    "### Stock data"
   ]
  },
  {
   "cell_type": "code",
   "execution_count": 3,
   "metadata": {},
   "outputs": [
    {
     "data": {
      "text/html": [
       "<div>\n",
       "<style scoped>\n",
       "    .dataframe tbody tr th:only-of-type {\n",
       "        vertical-align: middle;\n",
       "    }\n",
       "\n",
       "    .dataframe tbody tr th {\n",
       "        vertical-align: top;\n",
       "    }\n",
       "\n",
       "    .dataframe thead th {\n",
       "        text-align: right;\n",
       "    }\n",
       "</style>\n",
       "<table border=\"1\" class=\"dataframe\">\n",
       "  <thead>\n",
       "    <tr style=\"text-align: right;\">\n",
       "      <th></th>\n",
       "      <th>market_datetime</th>\n",
       "      <th>symbol</th>\n",
       "      <th>open</th>\n",
       "      <th>volume</th>\n",
       "      <th>average_open_hundred_days</th>\n",
       "      <th>average_open_fifty_days</th>\n",
       "      <th>average_open_ten_days</th>\n",
       "      <th>high_open_hundred_days</th>\n",
       "      <th>low_open_hundred_days</th>\n",
       "      <th>average_volume_hundred_days</th>\n",
       "      <th>average_volume_ten_days</th>\n",
       "      <th>average_daily_finish_ten_days</th>\n",
       "      <th>average_daily_range_ten_days</th>\n",
       "      <th>open_ten_days_forward</th>\n",
       "    </tr>\n",
       "  </thead>\n",
       "  <tbody>\n",
       "    <tr>\n",
       "      <th>0</th>\n",
       "      <td>1999-11-18 06:00:00</td>\n",
       "      <td>A</td>\n",
       "      <td>32.546495</td>\n",
       "      <td>62546377.0</td>\n",
       "      <td>32.546495</td>\n",
       "      <td>32.546495</td>\n",
       "      <td>32.546495</td>\n",
       "      <td>32.546495</td>\n",
       "      <td>32.546495</td>\n",
       "      <td>62546377.0</td>\n",
       "      <td>62546377.0</td>\n",
       "      <td>1.072961</td>\n",
       "      <td>7.153077</td>\n",
       "      <td>32.144134</td>\n",
       "    </tr>\n",
       "    <tr>\n",
       "      <th>1</th>\n",
       "      <td>1999-11-19 06:00:00</td>\n",
       "      <td>A</td>\n",
       "      <td>30.713519</td>\n",
       "      <td>15234143.0</td>\n",
       "      <td>31.630007</td>\n",
       "      <td>31.630007</td>\n",
       "      <td>31.630007</td>\n",
       "      <td>32.546495</td>\n",
       "      <td>30.713519</td>\n",
       "      <td>38890260.0</td>\n",
       "      <td>38890260.0</td>\n",
       "      <td>1.452968</td>\n",
       "      <td>4.716560</td>\n",
       "      <td>32.367668</td>\n",
       "    </tr>\n",
       "    <tr>\n",
       "      <th>2</th>\n",
       "      <td>1999-11-22 06:00:00</td>\n",
       "      <td>A</td>\n",
       "      <td>29.551144</td>\n",
       "      <td>6577866.0</td>\n",
       "      <td>30.937053</td>\n",
       "      <td>30.937053</td>\n",
       "      <td>30.937053</td>\n",
       "      <td>32.546495</td>\n",
       "      <td>29.551144</td>\n",
       "      <td>28119462.0</td>\n",
       "      <td>28119462.0</td>\n",
       "      <td>0.327849</td>\n",
       "      <td>4.083215</td>\n",
       "      <td>32.725322</td>\n",
       "    </tr>\n",
       "    <tr>\n",
       "      <th>3</th>\n",
       "      <td>1999-11-23 06:00:00</td>\n",
       "      <td>A</td>\n",
       "      <td>30.400572</td>\n",
       "      <td>5975608.0</td>\n",
       "      <td>30.802933</td>\n",
       "      <td>30.802933</td>\n",
       "      <td>30.802933</td>\n",
       "      <td>32.546495</td>\n",
       "      <td>29.551144</td>\n",
       "      <td>22583498.5</td>\n",
       "      <td>22583498.5</td>\n",
       "      <td>0.692954</td>\n",
       "      <td>3.710659</td>\n",
       "      <td>32.367668</td>\n",
       "    </tr>\n",
       "    <tr>\n",
       "      <th>4</th>\n",
       "      <td>1999-11-24 06:00:00</td>\n",
       "      <td>A</td>\n",
       "      <td>28.701717</td>\n",
       "      <td>4843228.0</td>\n",
       "      <td>30.382689</td>\n",
       "      <td>30.382689</td>\n",
       "      <td>30.382689</td>\n",
       "      <td>32.546495</td>\n",
       "      <td>28.701717</td>\n",
       "      <td>19035444.4</td>\n",
       "      <td>19035444.4</td>\n",
       "      <td>0.420243</td>\n",
       "      <td>3.245709</td>\n",
       "      <td>32.367668</td>\n",
       "    </tr>\n",
       "  </tbody>\n",
       "</table>\n",
       "</div>"
      ],
      "text/plain": [
       "      market_datetime symbol       open      volume  \\\n",
       "0 1999-11-18 06:00:00      A  32.546495  62546377.0   \n",
       "1 1999-11-19 06:00:00      A  30.713519  15234143.0   \n",
       "2 1999-11-22 06:00:00      A  29.551144   6577866.0   \n",
       "3 1999-11-23 06:00:00      A  30.400572   5975608.0   \n",
       "4 1999-11-24 06:00:00      A  28.701717   4843228.0   \n",
       "\n",
       "   average_open_hundred_days  average_open_fifty_days  average_open_ten_days  \\\n",
       "0                  32.546495                32.546495              32.546495   \n",
       "1                  31.630007                31.630007              31.630007   \n",
       "2                  30.937053                30.937053              30.937053   \n",
       "3                  30.802933                30.802933              30.802933   \n",
       "4                  30.382689                30.382689              30.382689   \n",
       "\n",
       "   high_open_hundred_days  low_open_hundred_days  average_volume_hundred_days  \\\n",
       "0               32.546495              32.546495                   62546377.0   \n",
       "1               32.546495              30.713519                   38890260.0   \n",
       "2               32.546495              29.551144                   28119462.0   \n",
       "3               32.546495              29.551144                   22583498.5   \n",
       "4               32.546495              28.701717                   19035444.4   \n",
       "\n",
       "   average_volume_ten_days  average_daily_finish_ten_days  \\\n",
       "0               62546377.0                       1.072961   \n",
       "1               38890260.0                       1.452968   \n",
       "2               28119462.0                       0.327849   \n",
       "3               22583498.5                       0.692954   \n",
       "4               19035444.4                       0.420243   \n",
       "\n",
       "   average_daily_range_ten_days  open_ten_days_forward  \n",
       "0                      7.153077              32.144134  \n",
       "1                      4.716560              32.367668  \n",
       "2                      4.083215              32.725322  \n",
       "3                      3.710659              32.367668  \n",
       "4                      3.245709              32.367668  "
      ]
     },
     "execution_count": 3,
     "metadata": {},
     "output_type": "execute_result"
    }
   ],
   "source": [
    "query = \"\"\"\n",
    "    with raw as (\n",
    "        select \n",
    "            market_datetime\n",
    "            , symbol\n",
    "            , open\n",
    "            , volume\n",
    "            , avg(open) over (partition by symbol order by market_datetime rows between 100 preceding and current row) as average_open_hundred_days\n",
    "            , avg(open) over (partition by symbol order by market_datetime rows between 50 preceding and current row) as average_open_fifty_days\n",
    "            , avg(open) over (partition by symbol order by market_datetime rows between 10 preceding and current row) as average_open_ten_days\n",
    "            , max(open) over (partition by symbol order by market_datetime rows between 100 preceding and current row) as high_open_hundred_days\n",
    "            , min(open) over (partition by symbol order by market_datetime rows between 100 preceding and current row) as low_open_hundred_days\n",
    "            , avg(volume) over (partition by symbol order by market_datetime rows between 100 preceding and current row) as average_volume_hundred_days\n",
    "            , avg(volume) over (partition by symbol order by market_datetime rows between 10 preceding and current row) as average_volume_ten_days\n",
    "            , avg(open - close) over (partition by symbol order by market_datetime rows between 10 preceding and current row) as average_daily_finish_ten_days\n",
    "            , avg(high - low) over (partition by symbol order by market_datetime rows between 10 preceding and current row) as average_daily_range_ten_days\n",
    "            , lead(open, 10) over (partition by symbol order by market_datetime) as open_ten_days_forward\n",
    "        from td.equities)\n",
    "    select * \n",
    "    from raw\n",
    "    where open_ten_days_forward is not null\n",
    "    limit 10000\n",
    "    \"\"\"\n",
    "\n",
    "df = utils.query_db(query=query)\n",
    "df.head()"
   ]
  },
  {
   "cell_type": "markdown",
   "metadata": {},
   "source": [
    "### Check for gpus"
   ]
  },
  {
   "cell_type": "code",
   "execution_count": 4,
   "metadata": {},
   "outputs": [
    {
     "name": "stdout",
     "output_type": "stream",
     "text": [
      "True\n",
      "GeForce GTX 1080 Ti\n"
     ]
    }
   ],
   "source": [
    "print(torch.cuda.is_available())\n",
    "print(torch.cuda.get_device_name(1))"
   ]
  },
  {
   "cell_type": "code",
   "execution_count": 5,
   "metadata": {},
   "outputs": [],
   "source": [
    "df = cluster_utils.encode_one_hot(df=df, column='symbol')"
   ]
  },
  {
   "cell_type": "code",
   "execution_count": 6,
   "metadata": {},
   "outputs": [
    {
     "data": {
      "text/html": [
       "<div>\n",
       "<style scoped>\n",
       "    .dataframe tbody tr th:only-of-type {\n",
       "        vertical-align: middle;\n",
       "    }\n",
       "\n",
       "    .dataframe tbody tr th {\n",
       "        vertical-align: top;\n",
       "    }\n",
       "\n",
       "    .dataframe thead th {\n",
       "        text-align: right;\n",
       "    }\n",
       "</style>\n",
       "<table border=\"1\" class=\"dataframe\">\n",
       "  <thead>\n",
       "    <tr style=\"text-align: right;\">\n",
       "      <th></th>\n",
       "      <th>market_datetime</th>\n",
       "      <th>symbol</th>\n",
       "      <th>open</th>\n",
       "      <th>volume</th>\n",
       "      <th>average_open_hundred_days</th>\n",
       "      <th>average_open_fifty_days</th>\n",
       "      <th>average_open_ten_days</th>\n",
       "      <th>high_open_hundred_days</th>\n",
       "      <th>low_open_hundred_days</th>\n",
       "      <th>average_volume_hundred_days</th>\n",
       "      <th>average_volume_ten_days</th>\n",
       "      <th>average_daily_finish_ten_days</th>\n",
       "      <th>average_daily_range_ten_days</th>\n",
       "      <th>open_ten_days_forward</th>\n",
       "      <th>A</th>\n",
       "      <th>AA</th>\n",
       "    </tr>\n",
       "  </thead>\n",
       "  <tbody>\n",
       "    <tr>\n",
       "      <th>0</th>\n",
       "      <td>1999-11-18 06:00:00</td>\n",
       "      <td>A</td>\n",
       "      <td>32.546495</td>\n",
       "      <td>62546377.0</td>\n",
       "      <td>32.546495</td>\n",
       "      <td>32.546495</td>\n",
       "      <td>32.546495</td>\n",
       "      <td>32.546495</td>\n",
       "      <td>32.546495</td>\n",
       "      <td>62546377.0</td>\n",
       "      <td>62546377.0</td>\n",
       "      <td>1.072961</td>\n",
       "      <td>7.153077</td>\n",
       "      <td>32.144134</td>\n",
       "      <td>1</td>\n",
       "      <td>0</td>\n",
       "    </tr>\n",
       "    <tr>\n",
       "      <th>1</th>\n",
       "      <td>1999-11-19 06:00:00</td>\n",
       "      <td>A</td>\n",
       "      <td>30.713519</td>\n",
       "      <td>15234143.0</td>\n",
       "      <td>31.630007</td>\n",
       "      <td>31.630007</td>\n",
       "      <td>31.630007</td>\n",
       "      <td>32.546495</td>\n",
       "      <td>30.713519</td>\n",
       "      <td>38890260.0</td>\n",
       "      <td>38890260.0</td>\n",
       "      <td>1.452968</td>\n",
       "      <td>4.716560</td>\n",
       "      <td>32.367668</td>\n",
       "      <td>1</td>\n",
       "      <td>0</td>\n",
       "    </tr>\n",
       "    <tr>\n",
       "      <th>2</th>\n",
       "      <td>1999-11-22 06:00:00</td>\n",
       "      <td>A</td>\n",
       "      <td>29.551144</td>\n",
       "      <td>6577866.0</td>\n",
       "      <td>30.937053</td>\n",
       "      <td>30.937053</td>\n",
       "      <td>30.937053</td>\n",
       "      <td>32.546495</td>\n",
       "      <td>29.551144</td>\n",
       "      <td>28119462.0</td>\n",
       "      <td>28119462.0</td>\n",
       "      <td>0.327849</td>\n",
       "      <td>4.083215</td>\n",
       "      <td>32.725322</td>\n",
       "      <td>1</td>\n",
       "      <td>0</td>\n",
       "    </tr>\n",
       "    <tr>\n",
       "      <th>3</th>\n",
       "      <td>1999-11-23 06:00:00</td>\n",
       "      <td>A</td>\n",
       "      <td>30.400572</td>\n",
       "      <td>5975608.0</td>\n",
       "      <td>30.802933</td>\n",
       "      <td>30.802933</td>\n",
       "      <td>30.802933</td>\n",
       "      <td>32.546495</td>\n",
       "      <td>29.551144</td>\n",
       "      <td>22583498.5</td>\n",
       "      <td>22583498.5</td>\n",
       "      <td>0.692954</td>\n",
       "      <td>3.710659</td>\n",
       "      <td>32.367668</td>\n",
       "      <td>1</td>\n",
       "      <td>0</td>\n",
       "    </tr>\n",
       "    <tr>\n",
       "      <th>4</th>\n",
       "      <td>1999-11-24 06:00:00</td>\n",
       "      <td>A</td>\n",
       "      <td>28.701717</td>\n",
       "      <td>4843228.0</td>\n",
       "      <td>30.382689</td>\n",
       "      <td>30.382689</td>\n",
       "      <td>30.382689</td>\n",
       "      <td>32.546495</td>\n",
       "      <td>28.701717</td>\n",
       "      <td>19035444.4</td>\n",
       "      <td>19035444.4</td>\n",
       "      <td>0.420243</td>\n",
       "      <td>3.245709</td>\n",
       "      <td>32.367668</td>\n",
       "      <td>1</td>\n",
       "      <td>0</td>\n",
       "    </tr>\n",
       "  </tbody>\n",
       "</table>\n",
       "</div>"
      ],
      "text/plain": [
       "      market_datetime symbol       open      volume  \\\n",
       "0 1999-11-18 06:00:00      A  32.546495  62546377.0   \n",
       "1 1999-11-19 06:00:00      A  30.713519  15234143.0   \n",
       "2 1999-11-22 06:00:00      A  29.551144   6577866.0   \n",
       "3 1999-11-23 06:00:00      A  30.400572   5975608.0   \n",
       "4 1999-11-24 06:00:00      A  28.701717   4843228.0   \n",
       "\n",
       "   average_open_hundred_days  average_open_fifty_days  average_open_ten_days  \\\n",
       "0                  32.546495                32.546495              32.546495   \n",
       "1                  31.630007                31.630007              31.630007   \n",
       "2                  30.937053                30.937053              30.937053   \n",
       "3                  30.802933                30.802933              30.802933   \n",
       "4                  30.382689                30.382689              30.382689   \n",
       "\n",
       "   high_open_hundred_days  low_open_hundred_days  average_volume_hundred_days  \\\n",
       "0               32.546495              32.546495                   62546377.0   \n",
       "1               32.546495              30.713519                   38890260.0   \n",
       "2               32.546495              29.551144                   28119462.0   \n",
       "3               32.546495              29.551144                   22583498.5   \n",
       "4               32.546495              28.701717                   19035444.4   \n",
       "\n",
       "   average_volume_ten_days  average_daily_finish_ten_days  \\\n",
       "0               62546377.0                       1.072961   \n",
       "1               38890260.0                       1.452968   \n",
       "2               28119462.0                       0.327849   \n",
       "3               22583498.5                       0.692954   \n",
       "4               19035444.4                       0.420243   \n",
       "\n",
       "   average_daily_range_ten_days  open_ten_days_forward  A  AA  \n",
       "0                      7.153077              32.144134  1   0  \n",
       "1                      4.716560              32.367668  1   0  \n",
       "2                      4.083215              32.725322  1   0  \n",
       "3                      3.710659              32.367668  1   0  \n",
       "4                      3.245709              32.367668  1   0  "
      ]
     },
     "execution_count": 6,
     "metadata": {},
     "output_type": "execute_result"
    }
   ],
   "source": [
    "df.head()"
   ]
  },
  {
   "cell_type": "code",
   "execution_count": null,
   "metadata": {},
   "outputs": [],
   "source": []
  },
  {
   "cell_type": "code",
   "execution_count": null,
   "metadata": {},
   "outputs": [],
   "source": []
  },
  {
   "cell_type": "code",
   "execution_count": 18,
   "metadata": {},
   "outputs": [],
   "source": [
    "d = torch.tensor(df[['open', 'volume']].values).float().view(1, -1)"
   ]
  },
  {
   "cell_type": "code",
   "execution_count": 17,
   "metadata": {},
   "outputs": [
    {
     "name": "stdout",
     "output_type": "stream",
     "text": [
      "tensor([3.2546e+01, 6.2546e+07, 3.0714e+01,  ..., 4.6455e+06, 2.3180e+01,\n",
      "        3.7192e+06])\n"
     ]
    }
   ],
   "source": [
    "for i, data in enumerate(d, 0): print(data)"
   ]
  },
  {
   "cell_type": "code",
   "execution_count": 20,
   "metadata": {},
   "outputs": [
    {
     "name": "stdout",
     "output_type": "stream",
     "text": [
      "tensor([3.2546e+01, 6.2546e+07, 3.0714e+01,  ..., 4.6455e+06, 2.3180e+01,\n",
      "        3.7192e+06])\n"
     ]
    }
   ],
   "source": [
    "for x in d: print(x)"
   ]
  },
  {
   "cell_type": "code",
   "execution_count": 68,
   "metadata": {},
   "outputs": [
    {
     "data": {
      "text/plain": [
       "tensor([[3.2546e+01, 6.2546e+07, 3.0714e+01,  ..., 2.3360e+01, 4.6455e+06,\n",
       "         2.3180e+01]])"
      ]
     },
     "execution_count": 68,
     "metadata": {},
     "output_type": "execute_result"
    }
   ],
   "source": [
    "d[:, :-1]"
   ]
  },
  {
   "cell_type": "code",
   "execution_count": null,
   "metadata": {},
   "outputs": [],
   "source": []
  },
  {
   "cell_type": "code",
   "execution_count": null,
   "metadata": {},
   "outputs": [],
   "source": []
  },
  {
   "cell_type": "code",
   "execution_count": null,
   "metadata": {},
   "outputs": [],
   "source": []
  },
  {
   "cell_type": "code",
   "execution_count": 146,
   "metadata": {},
   "outputs": [],
   "source": [
    "import pandas as pd\n",
    "import torch\n",
    "from torch import nn, functional, optim, autograd\n",
    "\n",
    "from finance.utilities import utils\n",
    "from finance.data_science.utilities import cluster_utils\n",
    "\n",
    "\n",
    "class TorchNN(nn.Module):\n",
    "    def __init__(self,\n",
    "                 train_x=pd.DataFrame,\n",
    "                 train_y=pd.DataFrame,\n",
    "                 hidden_size=8,\n",
    "                 output_size=1,\n",
    "                 learning_rate=0,\n",
    "                 momentum=.9):\n",
    "\n",
    "        self.train_x = torch.tensor(train_x.values, requires_grad=True).float().view(1, -1)\n",
    "        self.train_y = torch.tensor(train_y.values).float()\n",
    "\n",
    "        self.size = train_x.shape[0] * train_x.shape[1]\n",
    "        self.hidden_size = hidden_size\n",
    "        self.output_size = output_size\n",
    "\n",
    "        self.learning_rate = learning_rate\n",
    "        self.momentum = momentum\n",
    "\n",
    "    @property\n",
    "    def layers(self):\n",
    "        layers = {\n",
    "            'linear_one': nn.Linear(in_features=self.size, out_features=self.hidden_size).float(),\n",
    "            'linear_two': nn.Linear(in_features=self.hidden_size, out_features=self.output_size).float()\n",
    "        }\n",
    "        return layers\n",
    "\n",
    "    def forward(self, data):\n",
    "        for layer in self.layers:\n",
    "            data = self.layers.get(layer)(data)\n",
    "        return data\n",
    "\n",
    "    def optimizer(self):\n",
    "        return optim.SGD([self.train_x], lr=self.learning_rate, momentum=self.momentum)\n",
    "\n",
    "    @property\n",
    "    def criterion(self):\n",
    "        return nn.MSELoss()\n",
    "\n",
    "    @property\n",
    "    def n_epochs(self):\n",
    "        return 2\n",
    "\n",
    "    def train_network(self):\n",
    "        running_loss = 0\n",
    "        optimizer = self.optimizer()\n",
    "        criterion = self.criterion\n",
    "\n",
    "        for epoch in range(self.n_epochs):\n",
    "            for data, target in zip(self.train_x, self.train_y):\n",
    "                print(data)\n",
    "                \n",
    "                optimizer.zero_grad()\n",
    "\n",
    "                # forward + backward + optimize\n",
    "                outputs = self.forward(data)\n",
    "                loss = criterion(outputs, target)\n",
    "                loss.backward()\n",
    "                # optimizer.step()\n",
    "\n",
    "                running_loss += loss.item()"
   ]
  },
  {
   "cell_type": "code",
   "execution_count": 147,
   "metadata": {},
   "outputs": [],
   "source": [
    "net = TorchNN(train_x=df[['open', 'volume']], train_y=df['open_ten_days_forward'])"
   ]
  },
  {
   "cell_type": "code",
   "execution_count": 148,
   "metadata": {},
   "outputs": [
    {
     "ename": "ValueError",
     "evalue": "can't optimize a non-leaf Tensor",
     "output_type": "error",
     "traceback": [
      "\u001b[0;31m---------------------------------------------------------------------------\u001b[0m",
      "\u001b[0;31mValueError\u001b[0m                                Traceback (most recent call last)",
      "\u001b[0;32m<ipython-input-148-4c23d2573a89>\u001b[0m in \u001b[0;36m<module>\u001b[0;34m\u001b[0m\n\u001b[0;32m----> 1\u001b[0;31m \u001b[0mnet\u001b[0m\u001b[0;34m.\u001b[0m\u001b[0mtrain_network\u001b[0m\u001b[0;34m(\u001b[0m\u001b[0;34m)\u001b[0m\u001b[0;34m\u001b[0m\u001b[0m\n\u001b[0m",
      "\u001b[0;32m<ipython-input-146-9a451cc6aed8>\u001b[0m in \u001b[0;36mtrain_network\u001b[0;34m(self)\u001b[0m\n\u001b[1;32m     52\u001b[0m     \u001b[0;32mdef\u001b[0m \u001b[0mtrain_network\u001b[0m\u001b[0;34m(\u001b[0m\u001b[0mself\u001b[0m\u001b[0;34m)\u001b[0m\u001b[0;34m:\u001b[0m\u001b[0;34m\u001b[0m\u001b[0m\n\u001b[1;32m     53\u001b[0m         \u001b[0mrunning_loss\u001b[0m \u001b[0;34m=\u001b[0m \u001b[0;36m0\u001b[0m\u001b[0;34m\u001b[0m\u001b[0m\n\u001b[0;32m---> 54\u001b[0;31m         \u001b[0moptimizer\u001b[0m \u001b[0;34m=\u001b[0m \u001b[0mself\u001b[0m\u001b[0;34m.\u001b[0m\u001b[0moptimizer\u001b[0m\u001b[0;34m(\u001b[0m\u001b[0;34m)\u001b[0m\u001b[0;34m\u001b[0m\u001b[0m\n\u001b[0m\u001b[1;32m     55\u001b[0m         \u001b[0mcriterion\u001b[0m \u001b[0;34m=\u001b[0m \u001b[0mself\u001b[0m\u001b[0;34m.\u001b[0m\u001b[0mcriterion\u001b[0m\u001b[0;34m\u001b[0m\u001b[0m\n\u001b[1;32m     56\u001b[0m \u001b[0;34m\u001b[0m\u001b[0m\n",
      "\u001b[0;32m<ipython-input-146-9a451cc6aed8>\u001b[0m in \u001b[0;36moptimizer\u001b[0;34m(self)\u001b[0m\n\u001b[1;32m     40\u001b[0m \u001b[0;34m\u001b[0m\u001b[0m\n\u001b[1;32m     41\u001b[0m     \u001b[0;32mdef\u001b[0m \u001b[0moptimizer\u001b[0m\u001b[0;34m(\u001b[0m\u001b[0mself\u001b[0m\u001b[0;34m)\u001b[0m\u001b[0;34m:\u001b[0m\u001b[0;34m\u001b[0m\u001b[0m\n\u001b[0;32m---> 42\u001b[0;31m         \u001b[0;32mreturn\u001b[0m \u001b[0moptim\u001b[0m\u001b[0;34m.\u001b[0m\u001b[0mSGD\u001b[0m\u001b[0;34m(\u001b[0m\u001b[0;34m[\u001b[0m\u001b[0mself\u001b[0m\u001b[0;34m.\u001b[0m\u001b[0mtrain_x\u001b[0m\u001b[0;34m]\u001b[0m\u001b[0;34m,\u001b[0m \u001b[0mlr\u001b[0m\u001b[0;34m=\u001b[0m\u001b[0mself\u001b[0m\u001b[0;34m.\u001b[0m\u001b[0mlearning_rate\u001b[0m\u001b[0;34m,\u001b[0m \u001b[0mmomentum\u001b[0m\u001b[0;34m=\u001b[0m\u001b[0mself\u001b[0m\u001b[0;34m.\u001b[0m\u001b[0mmomentum\u001b[0m\u001b[0;34m)\u001b[0m\u001b[0;34m\u001b[0m\u001b[0m\n\u001b[0m\u001b[1;32m     43\u001b[0m \u001b[0;34m\u001b[0m\u001b[0m\n\u001b[1;32m     44\u001b[0m     \u001b[0;34m@\u001b[0m\u001b[0mproperty\u001b[0m\u001b[0;34m\u001b[0m\u001b[0m\n",
      "\u001b[0;32m~/miniconda/envs/py36/lib/python3.6/site-packages/torch/optim/sgd.py\u001b[0m in \u001b[0;36m__init__\u001b[0;34m(self, params, lr, momentum, dampening, weight_decay, nesterov)\u001b[0m\n\u001b[1;32m     62\u001b[0m         \u001b[0;32mif\u001b[0m \u001b[0mnesterov\u001b[0m \u001b[0;32mand\u001b[0m \u001b[0;34m(\u001b[0m\u001b[0mmomentum\u001b[0m \u001b[0;34m<=\u001b[0m \u001b[0;36m0\u001b[0m \u001b[0;32mor\u001b[0m \u001b[0mdampening\u001b[0m \u001b[0;34m!=\u001b[0m \u001b[0;36m0\u001b[0m\u001b[0;34m)\u001b[0m\u001b[0;34m:\u001b[0m\u001b[0;34m\u001b[0m\u001b[0m\n\u001b[1;32m     63\u001b[0m             \u001b[0;32mraise\u001b[0m \u001b[0mValueError\u001b[0m\u001b[0;34m(\u001b[0m\u001b[0;34m\"Nesterov momentum requires a momentum and zero dampening\"\u001b[0m\u001b[0;34m)\u001b[0m\u001b[0;34m\u001b[0m\u001b[0m\n\u001b[0;32m---> 64\u001b[0;31m         \u001b[0msuper\u001b[0m\u001b[0;34m(\u001b[0m\u001b[0mSGD\u001b[0m\u001b[0;34m,\u001b[0m \u001b[0mself\u001b[0m\u001b[0;34m)\u001b[0m\u001b[0;34m.\u001b[0m\u001b[0m__init__\u001b[0m\u001b[0;34m(\u001b[0m\u001b[0mparams\u001b[0m\u001b[0;34m,\u001b[0m \u001b[0mdefaults\u001b[0m\u001b[0;34m)\u001b[0m\u001b[0;34m\u001b[0m\u001b[0m\n\u001b[0m\u001b[1;32m     65\u001b[0m \u001b[0;34m\u001b[0m\u001b[0m\n\u001b[1;32m     66\u001b[0m     \u001b[0;32mdef\u001b[0m \u001b[0m__setstate__\u001b[0m\u001b[0;34m(\u001b[0m\u001b[0mself\u001b[0m\u001b[0;34m,\u001b[0m \u001b[0mstate\u001b[0m\u001b[0;34m)\u001b[0m\u001b[0;34m:\u001b[0m\u001b[0;34m\u001b[0m\u001b[0m\n",
      "\u001b[0;32m~/miniconda/envs/py36/lib/python3.6/site-packages/torch/optim/optimizer.py\u001b[0m in \u001b[0;36m__init__\u001b[0;34m(self, params, defaults)\u001b[0m\n\u001b[1;32m     48\u001b[0m \u001b[0;34m\u001b[0m\u001b[0m\n\u001b[1;32m     49\u001b[0m         \u001b[0;32mfor\u001b[0m \u001b[0mparam_group\u001b[0m \u001b[0;32min\u001b[0m \u001b[0mparam_groups\u001b[0m\u001b[0;34m:\u001b[0m\u001b[0;34m\u001b[0m\u001b[0m\n\u001b[0;32m---> 50\u001b[0;31m             \u001b[0mself\u001b[0m\u001b[0;34m.\u001b[0m\u001b[0madd_param_group\u001b[0m\u001b[0;34m(\u001b[0m\u001b[0mparam_group\u001b[0m\u001b[0;34m)\u001b[0m\u001b[0;34m\u001b[0m\u001b[0m\n\u001b[0m\u001b[1;32m     51\u001b[0m \u001b[0;34m\u001b[0m\u001b[0m\n\u001b[1;32m     52\u001b[0m     \u001b[0;32mdef\u001b[0m \u001b[0m__getstate__\u001b[0m\u001b[0;34m(\u001b[0m\u001b[0mself\u001b[0m\u001b[0;34m)\u001b[0m\u001b[0;34m:\u001b[0m\u001b[0;34m\u001b[0m\u001b[0m\n",
      "\u001b[0;32m~/miniconda/envs/py36/lib/python3.6/site-packages/torch/optim/optimizer.py\u001b[0m in \u001b[0;36madd_param_group\u001b[0;34m(self, param_group)\u001b[0m\n\u001b[1;32m    198\u001b[0m                                 \"but one of the params is \" + torch.typename(param))\n\u001b[1;32m    199\u001b[0m             \u001b[0;32mif\u001b[0m \u001b[0;32mnot\u001b[0m \u001b[0mparam\u001b[0m\u001b[0;34m.\u001b[0m\u001b[0mis_leaf\u001b[0m\u001b[0;34m:\u001b[0m\u001b[0;34m\u001b[0m\u001b[0m\n\u001b[0;32m--> 200\u001b[0;31m                 \u001b[0;32mraise\u001b[0m \u001b[0mValueError\u001b[0m\u001b[0;34m(\u001b[0m\u001b[0;34m\"can't optimize a non-leaf Tensor\"\u001b[0m\u001b[0;34m)\u001b[0m\u001b[0;34m\u001b[0m\u001b[0m\n\u001b[0m\u001b[1;32m    201\u001b[0m \u001b[0;34m\u001b[0m\u001b[0m\n\u001b[1;32m    202\u001b[0m         \u001b[0;32mfor\u001b[0m \u001b[0mname\u001b[0m\u001b[0;34m,\u001b[0m \u001b[0mdefault\u001b[0m \u001b[0;32min\u001b[0m \u001b[0mself\u001b[0m\u001b[0;34m.\u001b[0m\u001b[0mdefaults\u001b[0m\u001b[0;34m.\u001b[0m\u001b[0mitems\u001b[0m\u001b[0;34m(\u001b[0m\u001b[0;34m)\u001b[0m\u001b[0;34m:\u001b[0m\u001b[0;34m\u001b[0m\u001b[0m\n",
      "\u001b[0;31mValueError\u001b[0m: can't optimize a non-leaf Tensor"
     ]
    }
   ],
   "source": [
    "net.train_network()"
   ]
  },
  {
   "cell_type": "code",
   "execution_count": 59,
   "metadata": {},
   "outputs": [
    {
     "data": {
      "text/plain": [
       "torch.Tensor"
      ]
     },
     "execution_count": 59,
     "metadata": {},
     "output_type": "execute_result"
    }
   ],
   "source": [
    "type(data)"
   ]
  },
  {
   "cell_type": "code",
   "execution_count": null,
   "metadata": {},
   "outputs": [],
   "source": []
  }
 ],
 "metadata": {
  "kernelspec": {
   "display_name": "Python 3",
   "language": "python",
   "name": "python3"
  },
  "language_info": {
   "codemirror_mode": {
    "name": "ipython",
    "version": 3
   },
   "file_extension": ".py",
   "mimetype": "text/x-python",
   "name": "python",
   "nbconvert_exporter": "python",
   "pygments_lexer": "ipython3",
   "version": "3.6.5"
  }
 },
 "nbformat": 4,
 "nbformat_minor": 2
}
