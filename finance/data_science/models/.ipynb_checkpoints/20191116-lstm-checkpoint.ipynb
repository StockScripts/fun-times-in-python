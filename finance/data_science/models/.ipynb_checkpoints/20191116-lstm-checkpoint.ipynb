{
 "cells": [
  {
   "cell_type": "code",
   "execution_count": 1,
   "metadata": {},
   "outputs": [],
   "source": [
    "import psycopg2\n",
    "import datetime\n",
    "import numpy as np\n",
    "import pandas as pd\n",
    "from itertools import islice\n",
    "from sklearn import preprocessing\n",
    "\n",
    "import matplotlib.pyplot as plt\n",
    "from pandas.plotting import register_matplotlib_converters\n",
    "\n",
    "import torch\n",
    "from torch import nn, optim\n",
    "\n",
    "from finance.utilities import utils\n",
    "from finance.data_science.utilities import (financial_utils, time_series_utils, \n",
    "                                            cluster_utils, random_forest_utils, nn_utils)"
   ]
  },
  {
   "cell_type": "markdown",
   "metadata": {},
   "source": [
    "### Get stock data"
   ]
  },
  {
   "cell_type": "code",
   "execution_count": 2,
   "metadata": {},
   "outputs": [
    {
     "data": {
      "text/html": [
       "<div>\n",
       "<style scoped>\n",
       "    .dataframe tbody tr th:only-of-type {\n",
       "        vertical-align: middle;\n",
       "    }\n",
       "\n",
       "    .dataframe tbody tr th {\n",
       "        vertical-align: top;\n",
       "    }\n",
       "\n",
       "    .dataframe thead th {\n",
       "        text-align: right;\n",
       "    }\n",
       "</style>\n",
       "<table border=\"1\" class=\"dataframe\">\n",
       "  <thead>\n",
       "    <tr style=\"text-align: right;\">\n",
       "      <th></th>\n",
       "      <th>market_datetime</th>\n",
       "      <th>_year</th>\n",
       "      <th>month_of_year</th>\n",
       "      <th>week_of_year</th>\n",
       "      <th>symbol</th>\n",
       "      <th>sector</th>\n",
       "      <th>industry</th>\n",
       "      <th>average_price_today</th>\n",
       "      <th>volume</th>\n",
       "      <th>average_open_hundred_days</th>\n",
       "      <th>...</th>\n",
       "      <th>sector_fifty_ten_average_volume_diff</th>\n",
       "      <th>industry_hundred_fifty_average_open_diff</th>\n",
       "      <th>industry_fifty_ten_average_open_diff</th>\n",
       "      <th>industry_hundred_high_low_open_diff</th>\n",
       "      <th>industry_fifty_ten_average_volume_diff</th>\n",
       "      <th>market_hundred_fifty_average_open_diff</th>\n",
       "      <th>market_fifty_ten_average_open_diff</th>\n",
       "      <th>market_hundred_high_low_open_diff</th>\n",
       "      <th>market_fifty_ten_average_volume_diff</th>\n",
       "      <th>target</th>\n",
       "    </tr>\n",
       "  </thead>\n",
       "  <tbody>\n",
       "    <tr>\n",
       "      <th>0</th>\n",
       "      <td>2010-04-12 05:00:00</td>\n",
       "      <td>2010.0</td>\n",
       "      <td>4.0</td>\n",
       "      <td>15.0</td>\n",
       "      <td>T</td>\n",
       "      <td>Public Utilities</td>\n",
       "      <td>Telecommunications Equipment</td>\n",
       "      <td>26.475</td>\n",
       "      <td>22940169.0</td>\n",
       "      <td>25.859265</td>\n",
       "      <td>...</td>\n",
       "      <td>-0.030665</td>\n",
       "      <td>0.010595</td>\n",
       "      <td>-0.021752</td>\n",
       "      <td>0.137282</td>\n",
       "      <td>-0.030665</td>\n",
       "      <td>0.010595</td>\n",
       "      <td>-0.021752</td>\n",
       "      <td>0.137282</td>\n",
       "      <td>-0.030665</td>\n",
       "      <td>-0.109512</td>\n",
       "    </tr>\n",
       "    <tr>\n",
       "      <th>1</th>\n",
       "      <td>2010-04-19 05:00:00</td>\n",
       "      <td>2010.0</td>\n",
       "      <td>4.0</td>\n",
       "      <td>16.0</td>\n",
       "      <td>T</td>\n",
       "      <td>Public Utilities</td>\n",
       "      <td>Telecommunications Equipment</td>\n",
       "      <td>26.235</td>\n",
       "      <td>33301205.0</td>\n",
       "      <td>25.881781</td>\n",
       "      <td>...</td>\n",
       "      <td>-0.083025</td>\n",
       "      <td>0.009213</td>\n",
       "      <td>-0.020290</td>\n",
       "      <td>0.137282</td>\n",
       "      <td>-0.083025</td>\n",
       "      <td>0.009213</td>\n",
       "      <td>-0.020290</td>\n",
       "      <td>0.137282</td>\n",
       "      <td>-0.083025</td>\n",
       "      <td>-0.195610</td>\n",
       "    </tr>\n",
       "    <tr>\n",
       "      <th>2</th>\n",
       "      <td>2010-04-26 05:00:00</td>\n",
       "      <td>2010.0</td>\n",
       "      <td>4.0</td>\n",
       "      <td>17.0</td>\n",
       "      <td>T</td>\n",
       "      <td>Public Utilities</td>\n",
       "      <td>Telecommunications Equipment</td>\n",
       "      <td>26.250</td>\n",
       "      <td>17782577.0</td>\n",
       "      <td>25.910513</td>\n",
       "      <td>...</td>\n",
       "      <td>-0.109881</td>\n",
       "      <td>0.006149</td>\n",
       "      <td>-0.020818</td>\n",
       "      <td>0.137282</td>\n",
       "      <td>-0.109881</td>\n",
       "      <td>0.006149</td>\n",
       "      <td>-0.020818</td>\n",
       "      <td>0.137282</td>\n",
       "      <td>-0.109881</td>\n",
       "      <td>-0.130000</td>\n",
       "    </tr>\n",
       "    <tr>\n",
       "      <th>3</th>\n",
       "      <td>2010-05-03 05:00:00</td>\n",
       "      <td>2010.0</td>\n",
       "      <td>5.0</td>\n",
       "      <td>18.0</td>\n",
       "      <td>T</td>\n",
       "      <td>Public Utilities</td>\n",
       "      <td>Telecommunications Equipment</td>\n",
       "      <td>26.260</td>\n",
       "      <td>27076464.0</td>\n",
       "      <td>25.924699</td>\n",
       "      <td>...</td>\n",
       "      <td>-0.112832</td>\n",
       "      <td>0.003260</td>\n",
       "      <td>-0.014874</td>\n",
       "      <td>0.137282</td>\n",
       "      <td>-0.112832</td>\n",
       "      <td>0.003260</td>\n",
       "      <td>-0.014874</td>\n",
       "      <td>0.137282</td>\n",
       "      <td>-0.112832</td>\n",
       "      <td>-0.086098</td>\n",
       "    </tr>\n",
       "    <tr>\n",
       "      <th>4</th>\n",
       "      <td>2010-05-10 05:00:00</td>\n",
       "      <td>2010.0</td>\n",
       "      <td>5.0</td>\n",
       "      <td>19.0</td>\n",
       "      <td>T</td>\n",
       "      <td>Public Utilities</td>\n",
       "      <td>Telecommunications Equipment</td>\n",
       "      <td>25.720</td>\n",
       "      <td>40844772.0</td>\n",
       "      <td>25.916591</td>\n",
       "      <td>...</td>\n",
       "      <td>-0.217222</td>\n",
       "      <td>-0.000033</td>\n",
       "      <td>-0.002729</td>\n",
       "      <td>0.137282</td>\n",
       "      <td>-0.217222</td>\n",
       "      <td>-0.000033</td>\n",
       "      <td>-0.002729</td>\n",
       "      <td>0.137282</td>\n",
       "      <td>-0.217222</td>\n",
       "      <td>0.146098</td>\n",
       "    </tr>\n",
       "  </tbody>\n",
       "</table>\n",
       "<p>5 rows × 41 columns</p>\n",
       "</div>"
      ],
      "text/plain": [
       "      market_datetime   _year  month_of_year  week_of_year symbol  \\\n",
       "0 2010-04-12 05:00:00  2010.0            4.0          15.0      T   \n",
       "1 2010-04-19 05:00:00  2010.0            4.0          16.0      T   \n",
       "2 2010-04-26 05:00:00  2010.0            4.0          17.0      T   \n",
       "3 2010-05-03 05:00:00  2010.0            5.0          18.0      T   \n",
       "4 2010-05-10 05:00:00  2010.0            5.0          19.0      T   \n",
       "\n",
       "             sector                      industry  average_price_today  \\\n",
       "0  Public Utilities  Telecommunications Equipment               26.475   \n",
       "1  Public Utilities  Telecommunications Equipment               26.235   \n",
       "2  Public Utilities  Telecommunications Equipment               26.250   \n",
       "3  Public Utilities  Telecommunications Equipment               26.260   \n",
       "4  Public Utilities  Telecommunications Equipment               25.720   \n",
       "\n",
       "       volume  average_open_hundred_days  ...  \\\n",
       "0  22940169.0                  25.859265  ...   \n",
       "1  33301205.0                  25.881781  ...   \n",
       "2  17782577.0                  25.910513  ...   \n",
       "3  27076464.0                  25.924699  ...   \n",
       "4  40844772.0                  25.916591  ...   \n",
       "\n",
       "   sector_fifty_ten_average_volume_diff  \\\n",
       "0                             -0.030665   \n",
       "1                             -0.083025   \n",
       "2                             -0.109881   \n",
       "3                             -0.112832   \n",
       "4                             -0.217222   \n",
       "\n",
       "   industry_hundred_fifty_average_open_diff  \\\n",
       "0                                  0.010595   \n",
       "1                                  0.009213   \n",
       "2                                  0.006149   \n",
       "3                                  0.003260   \n",
       "4                                 -0.000033   \n",
       "\n",
       "   industry_fifty_ten_average_open_diff  industry_hundred_high_low_open_diff  \\\n",
       "0                             -0.021752                             0.137282   \n",
       "1                             -0.020290                             0.137282   \n",
       "2                             -0.020818                             0.137282   \n",
       "3                             -0.014874                             0.137282   \n",
       "4                             -0.002729                             0.137282   \n",
       "\n",
       "   industry_fifty_ten_average_volume_diff  \\\n",
       "0                               -0.030665   \n",
       "1                               -0.083025   \n",
       "2                               -0.109881   \n",
       "3                               -0.112832   \n",
       "4                               -0.217222   \n",
       "\n",
       "   market_hundred_fifty_average_open_diff  market_fifty_ten_average_open_diff  \\\n",
       "0                                0.010595                           -0.021752   \n",
       "1                                0.009213                           -0.020290   \n",
       "2                                0.006149                           -0.020818   \n",
       "3                                0.003260                           -0.014874   \n",
       "4                               -0.000033                           -0.002729   \n",
       "\n",
       "   market_hundred_high_low_open_diff  market_fifty_ten_average_volume_diff  \\\n",
       "0                           0.137282                             -0.030665   \n",
       "1                           0.137282                             -0.083025   \n",
       "2                           0.137282                             -0.109881   \n",
       "3                           0.137282                             -0.112832   \n",
       "4                           0.137282                             -0.217222   \n",
       "\n",
       "     target  \n",
       "0 -0.109512  \n",
       "1 -0.195610  \n",
       "2 -0.130000  \n",
       "3 -0.086098  \n",
       "4  0.146098  \n",
       "\n",
       "[5 rows x 41 columns]"
      ]
     },
     "execution_count": 2,
     "metadata": {},
     "output_type": "execute_result"
    }
   ],
   "source": [
    "query_date = '2010-01-01'\n",
    "query = f\"\"\"\n",
    "    with \n",
    "    tickers as (\n",
    "    select distinct \n",
    "        ticker\n",
    "        , sector\n",
    "        , industry\n",
    "    from nasdaq.listed_stocks\n",
    "    where ticker in ('T') --, 'BA', 'MMM', 'GA', 'GM', 'GE', 'AAPL', 'MSFT', 'DOW', 'AXP', 'IBM', 'JPM')\n",
    "    limit 100\n",
    "    ),\n",
    "    stocks as (\n",
    "        select \n",
    "            market_datetime\n",
    "            , extract(year from market_datetime) as _year\n",
    "            , extract(month from market_datetime) as month_of_year\n",
    "            , extract(week from market_datetime) as week_of_year\n",
    "            , symbol\n",
    "            , sector\n",
    "            , industry\n",
    "            , (open + close) / 2 as average_price_today\n",
    "            , volume\n",
    "            , avg(open) over (partition by symbol order by market_datetime rows between 100 preceding and current row) as average_open_hundred_days\n",
    "            , avg(open) over (partition by symbol order by market_datetime rows between 50 preceding and current row) as average_open_fifty_days\n",
    "            , avg(open) over (partition by symbol order by market_datetime rows between 10 preceding and current row) as average_open_ten_days\n",
    "            , max(open) over (partition by symbol order by market_datetime rows between 100 preceding and current row) as high_open_hundred_days\n",
    "            , min(open) over (partition by symbol order by market_datetime rows between 100 preceding and current row) as low_open_hundred_days\n",
    "            , avg(volume) over (partition by symbol order by market_datetime rows between 100 preceding and current row) as average_volume_hundred_days\n",
    "            , avg(volume) over (partition by symbol order by market_datetime rows between 50 preceding and current row) as average_volume_fifty_days\n",
    "            , avg(volume) over (partition by symbol order by market_datetime rows between 10 preceding and current row) as average_volume_ten_days\n",
    "            , avg((open - close)/open) over (partition by symbol order by market_datetime rows between 10 preceding and current row) as average_daily_finish_ten_days\n",
    "            , avg((high - low)/high) over (partition by symbol order by market_datetime rows between 10 preceding and current row) as average_daily_range_ten_days\n",
    "            , avg(open) over (partition by symbol order by market_datetime rows between 9 following and 49 following) as forward_average\n",
    "            , max(open) over (partition by symbol order by market_datetime rows between 9 following and 49 following) as forward_high\n",
    "            , min(open) over (partition by symbol order by market_datetime rows between 9 following and 49 following) as forward_low\n",
    "        from td.equities as equities\n",
    "        inner join tickers\n",
    "            on tickers.ticker = equities.symbol\n",
    "        where market_datetime > '{query_date}'\n",
    "        ),\n",
    "    summary as (\n",
    "        select *\n",
    "            , row_number() over (partition by _year, month_of_year, week_of_year) as week_partition\n",
    "            , (average_open_hundred_days - average_open_fifty_days) / average_open_hundred_days \n",
    "                as hundred_fifty_average_open_diff\n",
    "            , (average_open_fifty_days - average_open_ten_days) / average_open_fifty_days \n",
    "                as fifty_ten_average_open_diff\n",
    "            , (high_open_hundred_days - low_open_hundred_days) / high_open_hundred_days \n",
    "                as hundred_high_low_open_diff\n",
    "            , (average_volume_hundred_days - average_volume_fifty_days) / average_volume_hundred_days \n",
    "                as hundred_fifty_average_volume_diff\n",
    "            , (average_volume_fifty_days - average_volume_ten_days) / average_volume_fifty_days \n",
    "                as fifty_ten_average_volume_diff\n",
    "            --, (forward_average - average_price_today) / average_price_today as target\n",
    "            --, (forward_high - forward_low) / forward_average as target\n",
    "            --, forward_average as target\n",
    "        from stocks\n",
    "        where forward_average is not null\n",
    "        and market_datetime > '{query_date}'::date + interval '100' day)\n",
    "    select *\n",
    "        , avg(hundred_fifty_average_open_diff) over (partition by market_datetime, sector) as sector_hundred_fifty_average_open_diff\n",
    "        , avg(fifty_ten_average_open_diff) over (partition by market_datetime, sector) as sector_fifty_ten_average_open_diff\n",
    "        , avg(hundred_high_low_open_diff) over (partition by market_datetime, sector) as sector_hundred_high_low_open_diff\n",
    "        , avg(fifty_ten_average_volume_diff) over (partition by market_datetime, sector) as sector_fifty_ten_average_volume_diff\n",
    "        , avg(hundred_fifty_average_open_diff) over (partition by market_datetime, industry) as industry_hundred_fifty_average_open_diff\n",
    "        , avg(fifty_ten_average_open_diff) over (partition by market_datetime, industry) as industry_fifty_ten_average_open_diff\n",
    "        , avg(hundred_high_low_open_diff) over (partition by market_datetime, industry) as industry_hundred_high_low_open_diff\n",
    "        , avg(fifty_ten_average_volume_diff) over (partition by market_datetime, industry) as industry_fifty_ten_average_volume_diff\n",
    "        , avg(hundred_fifty_average_open_diff) over (partition by market_datetime) as market_hundred_fifty_average_open_diff\n",
    "        , avg(fifty_ten_average_open_diff) over (partition by market_datetime) as market_fifty_ten_average_open_diff\n",
    "        , avg(hundred_high_low_open_diff) over (partition by market_datetime) as market_hundred_high_low_open_diff\n",
    "        , avg(fifty_ten_average_volume_diff) over (partition by market_datetime) as market_fifty_ten_average_volume_diff\n",
    "        , lead(forward_average) over (partition by symbol order by market_datetime) - forward_average as target\n",
    "    from summary\n",
    "    where week_partition = 1\n",
    "    order by market_datetime\n",
    "    \"\"\"\n",
    "\n",
    "df = utils.query_db(query=query)\n",
    "df.head()"
   ]
  },
  {
   "cell_type": "markdown",
   "metadata": {},
   "source": [
    "### Clean data"
   ]
  },
  {
   "cell_type": "code",
   "execution_count": 3,
   "metadata": {},
   "outputs": [],
   "source": [
    "df['market_datetime_month'] = df['market_datetime'].dt.month\n",
    "df['market_datetime_day_of_week'] = df['market_datetime'].dt.dayofweek\n",
    "\n",
    "df['market_datetime_int'] = df['market_datetime'].astype(int)\n",
    "\n",
    "df = cluster_utils.encode_one_hot(df, ['symbol', 'sector', 'industry', \n",
    "                                       'market_datetime_month', 'market_datetime_day_of_week'])"
   ]
  },
  {
   "cell_type": "code",
   "execution_count": 4,
   "metadata": {},
   "outputs": [],
   "source": [
    "cols_to_ignore = ['symbol', 'sector', 'industry', 'market_datetime', 'market_datetime_month', 'market_datetime_day_of_week', \n",
    "                  'forward_average', 'forward_high', 'forward_low', 'target']\n",
    "\n",
    "for col in df.drop(cols_to_ignore, axis=1).columns:\n",
    "    df = cluster_utils.normalize(df=df, column=col)\n",
    "\n",
    "cluster_utils.normalize(df=df, column='target')\n",
    "df = df.fillna(1)"
   ]
  },
  {
   "cell_type": "code",
   "execution_count": 5,
   "metadata": {},
   "outputs": [
    {
     "data": {
      "text/html": [
       "<div>\n",
       "<style scoped>\n",
       "    .dataframe tbody tr th:only-of-type {\n",
       "        vertical-align: middle;\n",
       "    }\n",
       "\n",
       "    .dataframe tbody tr th {\n",
       "        vertical-align: top;\n",
       "    }\n",
       "\n",
       "    .dataframe thead th {\n",
       "        text-align: right;\n",
       "    }\n",
       "</style>\n",
       "<table border=\"1\" class=\"dataframe\">\n",
       "  <thead>\n",
       "    <tr style=\"text-align: right;\">\n",
       "      <th></th>\n",
       "      <th>0</th>\n",
       "    </tr>\n",
       "  </thead>\n",
       "  <tbody>\n",
       "    <tr>\n",
       "      <th>market_datetime</th>\n",
       "      <td>2010-04-12 05:00:00</td>\n",
       "    </tr>\n",
       "    <tr>\n",
       "      <th>_year</th>\n",
       "      <td>0</td>\n",
       "    </tr>\n",
       "    <tr>\n",
       "      <th>month_of_year</th>\n",
       "      <td>0.272727</td>\n",
       "    </tr>\n",
       "    <tr>\n",
       "      <th>week_of_year</th>\n",
       "      <td>0.269231</td>\n",
       "    </tr>\n",
       "    <tr>\n",
       "      <th>symbol</th>\n",
       "      <td>T</td>\n",
       "    </tr>\n",
       "    <tr>\n",
       "      <th>...</th>\n",
       "      <td>...</td>\n",
       "    </tr>\n",
       "    <tr>\n",
       "      <th>market_datetime_day_of_week_0</th>\n",
       "      <td>1</td>\n",
       "    </tr>\n",
       "    <tr>\n",
       "      <th>market_datetime_day_of_week_1</th>\n",
       "      <td>0</td>\n",
       "    </tr>\n",
       "    <tr>\n",
       "      <th>market_datetime_day_of_week_2</th>\n",
       "      <td>0</td>\n",
       "    </tr>\n",
       "    <tr>\n",
       "      <th>market_datetime_day_of_week_3</th>\n",
       "      <td>0</td>\n",
       "    </tr>\n",
       "    <tr>\n",
       "      <th>market_datetime_day_of_week_4</th>\n",
       "      <td>0</td>\n",
       "    </tr>\n",
       "  </tbody>\n",
       "</table>\n",
       "<p>64 rows × 1 columns</p>\n",
       "</div>"
      ],
      "text/plain": [
       "                                                 0\n",
       "market_datetime                2010-04-12 05:00:00\n",
       "_year                                            0\n",
       "month_of_year                             0.272727\n",
       "week_of_year                              0.269231\n",
       "symbol                                           T\n",
       "...                                            ...\n",
       "market_datetime_day_of_week_0                    1\n",
       "market_datetime_day_of_week_1                    0\n",
       "market_datetime_day_of_week_2                    0\n",
       "market_datetime_day_of_week_3                    0\n",
       "market_datetime_day_of_week_4                    0\n",
       "\n",
       "[64 rows x 1 columns]"
      ]
     },
     "execution_count": 5,
     "metadata": {},
     "output_type": "execute_result"
    }
   ],
   "source": [
    "df.head(1).T"
   ]
  },
  {
   "cell_type": "code",
   "execution_count": 6,
   "metadata": {},
   "outputs": [],
   "source": [
    "temp = df.copy()\n",
    "\n",
    "y = temp['target']\n",
    "\n",
    "x = temp[~y.isna()].reset_index(drop=True)\n",
    "y = y[~y.isna()].reset_index(drop=True)\n",
    "\n",
    "split = .8\n",
    "cutoff = int(len(x) * .8)\n",
    "\n",
    "train_x = x.iloc[:cutoff]\n",
    "test_x = x.iloc[cutoff:]\n",
    "\n",
    "train_y = y.iloc[:cutoff]\n",
    "test_y = y.iloc[cutoff:]"
   ]
  },
  {
   "cell_type": "markdown",
   "metadata": {},
   "source": [
    "### Create nn"
   ]
  },
  {
   "cell_type": "code",
   "execution_count": 56,
   "metadata": {},
   "outputs": [],
   "source": [
    "model = nn_utils.TorchLSTM(train_x=train_x.drop(cols_to_ignore, axis=1), \n",
    "                           train_y=train_y,\n",
    "                           test_x=test_x.drop(cols_to_ignore, axis=1), \n",
    "                           test_y=test_y,\n",
    "                           n_layers=2,\n",
    "                           n_epochs=300,\n",
    "                           hidden_shape=10,\n",
    "                           dropout=.5,\n",
    "                           learning_rate=.001,\n",
    "                           device='cuda:0')"
   ]
  },
  {
   "cell_type": "code",
   "execution_count": 57,
   "metadata": {},
   "outputs": [
    {
     "name": "stdout",
     "output_type": "stream",
     "text": [
      "Epoch  0 Error:  152134.390625\n",
      "Epoch  30 Error:  84774.1640625\n",
      "Epoch  60 Error:  26415.890625\n",
      "Epoch  90 Error:  24700.2421875\n",
      "Epoch  120 Error:  24108.833984375\n",
      "Epoch  150 Error:  23259.90625\n",
      "Epoch  180 Error:  22994.994140625\n",
      "Epoch  210 Error:  22887.109375\n",
      "Epoch  240 Error:  22819.892578125\n",
      "Epoch  270 Error:  22608.685546875\n"
     ]
    }
   ],
   "source": [
    "model.execute()"
   ]
  },
  {
   "cell_type": "code",
   "execution_count": 58,
   "metadata": {},
   "outputs": [
    {
     "data": {
      "image/png": "[encoded data removed]",
      "text/plain": [
       "<Figure size 432x288 with 1 Axes>"
      ]
     },
     "metadata": {
      "needs_background": "light"
     },
     "output_type": "display_data"
    }
   ],
   "source": [
    "model.plot_prediction_train()"
   ]
  },
  {
   "cell_type": "code",
   "execution_count": 59,
   "metadata": {},
   "outputs": [
    {
     "data": {
      "image/png": "[encoded data removed]",
      "text/plain": [
       "<Figure size 432x288 with 1 Axes>"
      ]
     },
     "metadata": {
      "needs_background": "light"
     },
     "output_type": "display_data"
    }
   ],
   "source": [
    "model.plot_prediction_train_error()"
   ]
  },
  {
   "cell_type": "code",
   "execution_count": 60,
   "metadata": {},
   "outputs": [
    {
     "data": {
      "image/png": "[encoded data removed]",
      "text/plain": [
       "<Figure size 432x288 with 1 Axes>"
      ]
     },
     "metadata": {
      "needs_background": "light"
     },
     "output_type": "display_data"
    }
   ],
   "source": [
    "model.plot_prediction_test()"
   ]
  },
  {
   "cell_type": "code",
   "execution_count": 61,
   "metadata": {},
   "outputs": [
    {
     "data": {
      "image/png": "[encoded data removed]",
      "text/plain": [
       "<Figure size 432x288 with 1 Axes>"
      ]
     },
     "metadata": {
      "needs_background": "light"
     },
     "output_type": "display_data"
    }
   ],
   "source": [
    "model.plot_prediction_test_error()"
   ]
  },
  {
   "cell_type": "code",
   "execution_count": 62,
   "metadata": {},
   "outputs": [],
   "source": [
    "model.reset_network()"
   ]
  },
  {
   "cell_type": "code",
   "execution_count": null,
   "metadata": {},
   "outputs": [],
   "source": []
  },
  {
   "cell_type": "code",
   "execution_count": null,
   "metadata": {},
   "outputs": [],
   "source": []
  }
 ],
 "metadata": {
  "kernelspec": {
   "display_name": "Python 3",
   "language": "python",
   "name": "python3"
  },
  "language_info": {
   "codemirror_mode": {
    "name": "ipython",
    "version": 3
   },
   "file_extension": ".py",
   "mimetype": "text/x-python",
   "name": "python",
   "nbconvert_exporter": "python",
   "pygments_lexer": "ipython3",
   "version": "3.6.5"
  }
 },
 "nbformat": 4,
 "nbformat_minor": 4
}
