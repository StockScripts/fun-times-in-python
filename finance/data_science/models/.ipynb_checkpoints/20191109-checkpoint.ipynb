{
 "cells": [
  {
   "cell_type": "code",
   "execution_count": 1,
   "metadata": {},
   "outputs": [],
   "source": [
    "import psycopg2\n",
    "import datetime\n",
    "import numpy as np\n",
    "import pandas as pd\n",
    "from itertools import islice\n",
    "\n",
    "import torch\n",
    "import torch.nn as nn\n",
    "import torch.nn.functional as F\n",
    "import torch.optim as optim\n",
    "\n",
    "from sklearn import preprocessing\n",
    "import matplotlib.pyplot as plt\n",
    "from pandas.plotting import register_matplotlib_converters\n",
    "\n",
    "from finance.utilities import utils\n",
    "from finance.data_science.utilities import financial_utils, time_series_utils, cluster_utils, random_forest_utils"
   ]
  },
  {
   "cell_type": "markdown",
   "metadata": {},
   "source": [
    "### Get stock data"
   ]
  },
  {
   "cell_type": "code",
   "execution_count": 2,
   "metadata": {},
   "outputs": [
    {
     "data": {
      "text/html": [
       "<div>\n",
       "<style scoped>\n",
       "    .dataframe tbody tr th:only-of-type {\n",
       "        vertical-align: middle;\n",
       "    }\n",
       "\n",
       "    .dataframe tbody tr th {\n",
       "        vertical-align: top;\n",
       "    }\n",
       "\n",
       "    .dataframe thead th {\n",
       "        text-align: right;\n",
       "    }\n",
       "</style>\n",
       "<table border=\"1\" class=\"dataframe\">\n",
       "  <thead>\n",
       "    <tr style=\"text-align: right;\">\n",
       "      <th></th>\n",
       "      <th>market_datetime</th>\n",
       "      <th>symbol</th>\n",
       "      <th>open</th>\n",
       "      <th>volume</th>\n",
       "      <th>average_open_hundred_days</th>\n",
       "      <th>average_open_fifty_days</th>\n",
       "      <th>average_open_ten_days</th>\n",
       "      <th>high_open_hundred_days</th>\n",
       "      <th>low_open_hundred_days</th>\n",
       "      <th>average_volume_hundred_days</th>\n",
       "      <th>average_volume_ten_days</th>\n",
       "      <th>average_daily_finish_ten_days</th>\n",
       "      <th>average_daily_range_ten_days</th>\n",
       "      <th>open_ten_days_forward</th>\n",
       "    </tr>\n",
       "  </thead>\n",
       "  <tbody>\n",
       "    <tr>\n",
       "      <th>0</th>\n",
       "      <td>2018-01-02 06:00:00</td>\n",
       "      <td>AA</td>\n",
       "      <td>54.06</td>\n",
       "      <td>2929144.0</td>\n",
       "      <td>44.566139</td>\n",
       "      <td>45.239412</td>\n",
       "      <td>48.879545</td>\n",
       "      <td>54.06</td>\n",
       "      <td>37.21</td>\n",
       "      <td>3.924989e+06</td>\n",
       "      <td>4.170065e+06</td>\n",
       "      <td>-0.878636</td>\n",
       "      <td>1.495482</td>\n",
       "      <td>56.03</td>\n",
       "    </tr>\n",
       "    <tr>\n",
       "      <th>1</th>\n",
       "      <td>2018-01-03 06:00:00</td>\n",
       "      <td>AA</td>\n",
       "      <td>54.92</td>\n",
       "      <td>4099974.0</td>\n",
       "      <td>44.721683</td>\n",
       "      <td>45.404510</td>\n",
       "      <td>49.981364</td>\n",
       "      <td>54.92</td>\n",
       "      <td>37.21</td>\n",
       "      <td>3.928659e+06</td>\n",
       "      <td>4.130356e+06</td>\n",
       "      <td>-0.857727</td>\n",
       "      <td>1.616391</td>\n",
       "      <td>53.67</td>\n",
       "    </tr>\n",
       "    <tr>\n",
       "      <th>2</th>\n",
       "      <td>2018-01-04 06:00:00</td>\n",
       "      <td>AA</td>\n",
       "      <td>54.81</td>\n",
       "      <td>3555132.0</td>\n",
       "      <td>44.886931</td>\n",
       "      <td>45.555098</td>\n",
       "      <td>51.072273</td>\n",
       "      <td>54.92</td>\n",
       "      <td>37.21</td>\n",
       "      <td>3.929048e+06</td>\n",
       "      <td>4.164903e+06</td>\n",
       "      <td>-0.687727</td>\n",
       "      <td>1.564118</td>\n",
       "      <td>52.86</td>\n",
       "    </tr>\n",
       "    <tr>\n",
       "      <th>3</th>\n",
       "      <td>2018-01-05 06:00:00</td>\n",
       "      <td>AA</td>\n",
       "      <td>54.65</td>\n",
       "      <td>3371375.0</td>\n",
       "      <td>45.059604</td>\n",
       "      <td>45.684706</td>\n",
       "      <td>51.979545</td>\n",
       "      <td>54.92</td>\n",
       "      <td>37.30</td>\n",
       "      <td>3.932979e+06</td>\n",
       "      <td>3.929543e+06</td>\n",
       "      <td>-0.468636</td>\n",
       "      <td>1.506845</td>\n",
       "      <td>52.80</td>\n",
       "    </tr>\n",
       "    <tr>\n",
       "      <th>4</th>\n",
       "      <td>2018-01-08 06:00:00</td>\n",
       "      <td>AA</td>\n",
       "      <td>53.96</td>\n",
       "      <td>5028333.0</td>\n",
       "      <td>45.216535</td>\n",
       "      <td>45.799020</td>\n",
       "      <td>52.503182</td>\n",
       "      <td>54.92</td>\n",
       "      <td>37.30</td>\n",
       "      <td>3.961681e+06</td>\n",
       "      <td>3.734760e+06</td>\n",
       "      <td>-0.466818</td>\n",
       "      <td>1.547636</td>\n",
       "      <td>52.34</td>\n",
       "    </tr>\n",
       "  </tbody>\n",
       "</table>\n",
       "</div>"
      ],
      "text/plain": [
       "      market_datetime symbol   open     volume  average_open_hundred_days  \\\n",
       "0 2018-01-02 06:00:00     AA  54.06  2929144.0                  44.566139   \n",
       "1 2018-01-03 06:00:00     AA  54.92  4099974.0                  44.721683   \n",
       "2 2018-01-04 06:00:00     AA  54.81  3555132.0                  44.886931   \n",
       "3 2018-01-05 06:00:00     AA  54.65  3371375.0                  45.059604   \n",
       "4 2018-01-08 06:00:00     AA  53.96  5028333.0                  45.216535   \n",
       "\n",
       "   average_open_fifty_days  average_open_ten_days  high_open_hundred_days  \\\n",
       "0                45.239412              48.879545                   54.06   \n",
       "1                45.404510              49.981364                   54.92   \n",
       "2                45.555098              51.072273                   54.92   \n",
       "3                45.684706              51.979545                   54.92   \n",
       "4                45.799020              52.503182                   54.92   \n",
       "\n",
       "   low_open_hundred_days  average_volume_hundred_days  \\\n",
       "0                  37.21                 3.924989e+06   \n",
       "1                  37.21                 3.928659e+06   \n",
       "2                  37.21                 3.929048e+06   \n",
       "3                  37.30                 3.932979e+06   \n",
       "4                  37.30                 3.961681e+06   \n",
       "\n",
       "   average_volume_ten_days  average_daily_finish_ten_days  \\\n",
       "0             4.170065e+06                      -0.878636   \n",
       "1             4.130356e+06                      -0.857727   \n",
       "2             4.164903e+06                      -0.687727   \n",
       "3             3.929543e+06                      -0.468636   \n",
       "4             3.734760e+06                      -0.466818   \n",
       "\n",
       "   average_daily_range_ten_days  open_ten_days_forward  \n",
       "0                      1.495482                  56.03  \n",
       "1                      1.616391                  53.67  \n",
       "2                      1.564118                  52.86  \n",
       "3                      1.506845                  52.80  \n",
       "4                      1.547636                  52.34  "
      ]
     },
     "execution_count": 2,
     "metadata": {},
     "output_type": "execute_result"
    }
   ],
   "source": [
    "query = \"\"\"\n",
    "    with raw as (\n",
    "        select \n",
    "            market_datetime\n",
    "            , symbol\n",
    "            , open\n",
    "            , volume\n",
    "            , avg(open) over (partition by symbol order by market_datetime rows between 100 preceding and current row) as average_open_hundred_days\n",
    "            , avg(open) over (partition by symbol order by market_datetime rows between 50 preceding and current row) as average_open_fifty_days\n",
    "            , avg(open) over (partition by symbol order by market_datetime rows between 10 preceding and current row) as average_open_ten_days\n",
    "            , max(open) over (partition by symbol order by market_datetime rows between 100 preceding and current row) as high_open_hundred_days\n",
    "            , min(open) over (partition by symbol order by market_datetime rows between 100 preceding and current row) as low_open_hundred_days\n",
    "            , avg(volume) over (partition by symbol order by market_datetime rows between 100 preceding and current row) as average_volume_hundred_days\n",
    "            , avg(volume) over (partition by symbol order by market_datetime rows between 10 preceding and current row) as average_volume_ten_days\n",
    "            , avg(open - close) over (partition by symbol order by market_datetime rows between 10 preceding and current row) as average_daily_finish_ten_days\n",
    "            , avg(high - low) over (partition by symbol order by market_datetime rows between 10 preceding and current row) as average_daily_range_ten_days\n",
    "            , lead(open, 10) over (partition by symbol order by market_datetime) as open_ten_days_forward\n",
    "        from td.equities)\n",
    "    select * \n",
    "    from raw\n",
    "    where open_ten_days_forward is not null\n",
    "    and market_datetime > '2018-01-01'\n",
    "    and symbol = 'AA'\n",
    "    limit 400\n",
    "    \"\"\"\n",
    "\n",
    "df = utils.query_db(query=query)\n",
    "df.head()"
   ]
  },
  {
   "cell_type": "code",
   "execution_count": null,
   "metadata": {},
   "outputs": [],
   "source": []
  },
  {
   "cell_type": "code",
   "execution_count": null,
   "metadata": {},
   "outputs": [],
   "source": []
  },
  {
   "cell_type": "markdown",
   "metadata": {},
   "source": [
    "### Build random forest"
   ]
  },
  {
   "cell_type": "code",
   "execution_count": 3,
   "metadata": {},
   "outputs": [],
   "source": [
    "temp = df[['market_datetime', 'open', 'volume']].copy()\n",
    "temp['market_datetime'] = temp['market_datetime'].astype(int)\n",
    "\n",
    "x = temp.drop('open', axis=1)\n",
    "y = temp['open'].shift(-1)"
   ]
  },
  {
   "cell_type": "code",
   "execution_count": 4,
   "metadata": {},
   "outputs": [],
   "source": [
    "split = .8\n",
    "cutoff = int(len(x) * .8)\n",
    "\n",
    "train_x = x.iloc[1:cutoff]\n",
    "test_x = x.iloc[cutoff+1:-1]\n",
    "\n",
    "train_y = y.iloc[1:cutoff]\n",
    "test_y = y.iloc[cutoff+1:-1]"
   ]
  },
  {
   "cell_type": "code",
   "execution_count": 5,
   "metadata": {},
   "outputs": [],
   "source": [
    "boost = random_forest_utils.XGBooster(train_x=train_x, train_y=train_y,\n",
    "                                      test_x=test_x, test_y=test_y, max_depth=3)"
   ]
  },
  {
   "cell_type": "code",
   "execution_count": 6,
   "metadata": {},
   "outputs": [
    {
     "name": "stderr",
     "output_type": "stream",
     "text": [
      "/home/user/miniconda/envs/py36/lib/python3.6/site-packages/xgboost/core.py:587: FutureWarning: Series.base is deprecated and will be removed in a future version\n",
      "  if getattr(data, 'base', None) is not None and \\\n",
      "/home/user/miniconda/envs/py36/lib/python3.6/site-packages/xgboost/core.py:588: FutureWarning: Series.base is deprecated and will be removed in a future version\n",
      "  data.base is not None and isinstance(data, np.ndarray) \\\n"
     ]
    },
    {
     "name": "stdout",
     "output_type": "stream",
     "text": [
      "[15:14:47] WARNING: /workspace/src/objective/regression_obj.cu:152: reg:linear is now deprecated in favor of reg:squarederror.\n"
     ]
    }
   ],
   "source": [
    "fit_model = boost.fit()"
   ]
  },
  {
   "cell_type": "code",
   "execution_count": 7,
   "metadata": {},
   "outputs": [],
   "source": [
    "prediction = boost.predict(model=fit_model)"
   ]
  },
  {
   "cell_type": "code",
   "execution_count": 8,
   "metadata": {},
   "outputs": [],
   "source": [
    "mse = boost.evaluate(prediction=prediction)"
   ]
  },
  {
   "cell_type": "code",
   "execution_count": 9,
   "metadata": {},
   "outputs": [
    {
     "data": {
      "image/png": "[encoded data removed]",
      "text/plain": [
       "<Figure size 432x288 with 1 Axes>"
      ]
     },
     "metadata": {
      "needs_background": "light"
     },
     "output_type": "display_data"
    }
   ],
   "source": [
    "boost.plot_prediction(prediction)"
   ]
  },
  {
   "cell_type": "code",
   "execution_count": 10,
   "metadata": {},
   "outputs": [
    {
     "data": {
      "image/png": "[encoded data removed]",
      "text/plain": [
       "<Figure size 432x288 with 1 Axes>"
      ]
     },
     "metadata": {
      "needs_background": "light"
     },
     "output_type": "display_data"
    }
   ],
   "source": [
    "boost.plot_importance(model=fit_model)"
   ]
  },
  {
   "cell_type": "code",
   "execution_count": 11,
   "metadata": {},
   "outputs": [
    {
     "ename": "ImportError",
     "evalue": "You must install graphviz to plot tree",
     "output_type": "error",
     "traceback": [
      "\u001b[0;31m---------------------------------------------------------------------------\u001b[0m",
      "\u001b[0;31mModuleNotFoundError\u001b[0m                       Traceback (most recent call last)",
      "\u001b[0;32m~/miniconda/envs/py36/lib/python3.6/site-packages/xgboost/plotting.py\u001b[0m in \u001b[0;36mto_graphviz\u001b[0;34m(booster, fmap, num_trees, rankdir, yes_color, no_color, condition_node_params, leaf_node_params, **kwargs)\u001b[0m\n\u001b[1;32m    211\u001b[0m     \u001b[0;32mtry\u001b[0m\u001b[0;34m:\u001b[0m\u001b[0;34m\u001b[0m\u001b[0m\n\u001b[0;32m--> 212\u001b[0;31m         \u001b[0;32mfrom\u001b[0m \u001b[0mgraphviz\u001b[0m \u001b[0;32mimport\u001b[0m \u001b[0mDigraph\u001b[0m\u001b[0;34m\u001b[0m\u001b[0m\n\u001b[0m\u001b[1;32m    213\u001b[0m     \u001b[0;32mexcept\u001b[0m \u001b[0mImportError\u001b[0m\u001b[0;34m:\u001b[0m\u001b[0;34m\u001b[0m\u001b[0m\n",
      "\u001b[0;31mModuleNotFoundError\u001b[0m: No module named 'graphviz'",
      "\nDuring handling of the above exception, another exception occurred:\n",
      "\u001b[0;31mImportError\u001b[0m                               Traceback (most recent call last)",
      "\u001b[0;32m<ipython-input-11-ab890c37de9b>\u001b[0m in \u001b[0;36m<module>\u001b[0;34m\u001b[0m\n\u001b[0;32m----> 1\u001b[0;31m \u001b[0mboost\u001b[0m\u001b[0;34m.\u001b[0m\u001b[0mplot_tree\u001b[0m\u001b[0;34m(\u001b[0m\u001b[0mmodel\u001b[0m\u001b[0;34m=\u001b[0m\u001b[0mfit_model\u001b[0m\u001b[0;34m,\u001b[0m \u001b[0mn_trees\u001b[0m\u001b[0;34m=\u001b[0m\u001b[0;36m2\u001b[0m\u001b[0;34m)\u001b[0m\u001b[0;34m\u001b[0m\u001b[0m\n\u001b[0m",
      "\u001b[0;32m/usr/src/app/finance/data_science/utilities/random_forest_utils.py\u001b[0m in \u001b[0;36mplot_tree\u001b[0;34m(model, n_trees)\u001b[0m\n\u001b[1;32m    184\u001b[0m     \u001b[0;34m@\u001b[0m\u001b[0mstaticmethod\u001b[0m\u001b[0;34m\u001b[0m\u001b[0m\n\u001b[1;32m    185\u001b[0m     \u001b[0;32mdef\u001b[0m \u001b[0mplot_tree\u001b[0m\u001b[0;34m(\u001b[0m\u001b[0mmodel\u001b[0m\u001b[0;34m,\u001b[0m \u001b[0mn_trees\u001b[0m\u001b[0;34m=\u001b[0m\u001b[0;36m2\u001b[0m\u001b[0;34m)\u001b[0m\u001b[0;34m:\u001b[0m\u001b[0;34m\u001b[0m\u001b[0m\n\u001b[0;32m--> 186\u001b[0;31m         \u001b[0mxgb\u001b[0m\u001b[0;34m.\u001b[0m\u001b[0mplot_tree\u001b[0m\u001b[0;34m(\u001b[0m\u001b[0mmodel\u001b[0m\u001b[0;34m,\u001b[0m \u001b[0mnum_trees\u001b[0m\u001b[0;34m=\u001b[0m\u001b[0mn_trees\u001b[0m\u001b[0;34m)\u001b[0m\u001b[0;34m\u001b[0m\u001b[0m\n\u001b[0m\u001b[1;32m    187\u001b[0m \u001b[0;34m\u001b[0m\u001b[0m\n\u001b[1;32m    188\u001b[0m     \u001b[0;34m@\u001b[0m\u001b[0mstaticmethod\u001b[0m\u001b[0;34m\u001b[0m\u001b[0m\n",
      "\u001b[0;32m~/miniconda/envs/py36/lib/python3.6/site-packages/xgboost/plotting.py\u001b[0m in \u001b[0;36mplot_tree\u001b[0;34m(booster, fmap, num_trees, rankdir, ax, **kwargs)\u001b[0m\n\u001b[1;32m    276\u001b[0m \u001b[0;34m\u001b[0m\u001b[0m\n\u001b[1;32m    277\u001b[0m     g = to_graphviz(booster, fmap=fmap, num_trees=num_trees,\n\u001b[0;32m--> 278\u001b[0;31m                     rankdir=rankdir, **kwargs)\n\u001b[0m\u001b[1;32m    279\u001b[0m \u001b[0;34m\u001b[0m\u001b[0m\n\u001b[1;32m    280\u001b[0m     \u001b[0ms\u001b[0m \u001b[0;34m=\u001b[0m \u001b[0mBytesIO\u001b[0m\u001b[0;34m(\u001b[0m\u001b[0;34m)\u001b[0m\u001b[0;34m\u001b[0m\u001b[0m\n",
      "\u001b[0;32m~/miniconda/envs/py36/lib/python3.6/site-packages/xgboost/plotting.py\u001b[0m in \u001b[0;36mto_graphviz\u001b[0;34m(booster, fmap, num_trees, rankdir, yes_color, no_color, condition_node_params, leaf_node_params, **kwargs)\u001b[0m\n\u001b[1;32m    212\u001b[0m         \u001b[0;32mfrom\u001b[0m \u001b[0mgraphviz\u001b[0m \u001b[0;32mimport\u001b[0m \u001b[0mDigraph\u001b[0m\u001b[0;34m\u001b[0m\u001b[0m\n\u001b[1;32m    213\u001b[0m     \u001b[0;32mexcept\u001b[0m \u001b[0mImportError\u001b[0m\u001b[0;34m:\u001b[0m\u001b[0;34m\u001b[0m\u001b[0m\n\u001b[0;32m--> 214\u001b[0;31m         \u001b[0;32mraise\u001b[0m \u001b[0mImportError\u001b[0m\u001b[0;34m(\u001b[0m\u001b[0;34m'You must install graphviz to plot tree'\u001b[0m\u001b[0;34m)\u001b[0m\u001b[0;34m\u001b[0m\u001b[0m\n\u001b[0m\u001b[1;32m    215\u001b[0m \u001b[0;34m\u001b[0m\u001b[0m\n\u001b[1;32m    216\u001b[0m     \u001b[0;32mif\u001b[0m \u001b[0;32mnot\u001b[0m \u001b[0misinstance\u001b[0m\u001b[0;34m(\u001b[0m\u001b[0mbooster\u001b[0m\u001b[0;34m,\u001b[0m \u001b[0;34m(\u001b[0m\u001b[0mBooster\u001b[0m\u001b[0;34m,\u001b[0m \u001b[0mXGBModel\u001b[0m\u001b[0;34m)\u001b[0m\u001b[0;34m)\u001b[0m\u001b[0;34m:\u001b[0m\u001b[0;34m\u001b[0m\u001b[0m\n",
      "\u001b[0;31mImportError\u001b[0m: You must install graphviz to plot tree"
     ]
    },
    {
     "data": {
      "image/png": "[encoded data removed]",
      "text/plain": [
       "<Figure size 432x288 with 1 Axes>"
      ]
     },
     "metadata": {
      "needs_background": "light"
     },
     "output_type": "display_data"
    }
   ],
   "source": [
    "boost.plot_tree(model=fit_model, n_trees=2)"
   ]
  },
  {
   "cell_type": "code",
   "execution_count": null,
   "metadata": {},
   "outputs": [],
   "source": []
  }
 ],
 "metadata": {
  "kernelspec": {
   "display_name": "Python 3",
   "language": "python",
   "name": "python3"
  },
  "language_info": {
   "codemirror_mode": {
    "name": "ipython",
    "version": 3
   },
   "file_extension": ".py",
   "mimetype": "text/x-python",
   "name": "python",
   "nbconvert_exporter": "python",
   "pygments_lexer": "ipython3",
   "version": "3.6.5"
  }
 },
 "nbformat": 4,
 "nbformat_minor": 4
}
