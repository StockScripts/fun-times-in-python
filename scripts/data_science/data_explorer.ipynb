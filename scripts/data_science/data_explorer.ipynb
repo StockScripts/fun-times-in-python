{
 "cells": [
  {
   "cell_type": "code",
   "execution_count": 1,
   "metadata": {},
   "outputs": [],
   "source": [
    "import psycopg2\n",
    "import numpy as np\n",
    "import pandas as pd\n",
    "import sklearn as sk\n",
    "import xgboost as xg\n",
    "import matplotlib.pyplot as plt"
   ]
  },
  {
   "cell_type": "code",
   "execution_count": 2,
   "metadata": {},
   "outputs": [],
   "source": [
    "import os\n",
    "os.chdir('/Users/rickbetzler/personal/fun-times-in-python/')\n",
    "\n",
    "from scripts.utilities import utils\n",
    "from scripts.utilities import financial_utils"
   ]
  },
  {
   "cell_type": "code",
   "execution_count": 3,
   "metadata": {},
   "outputs": [],
   "source": [
    "query = \"\"\"\n",
    "    select \n",
    "        e.symbol\n",
    "        , e.market_datetime\n",
    "        , e.open\n",
    "        , e.high\n",
    "        , e.low\n",
    "        , e.close\n",
    "        , e.volume\n",
    "        , f.high_52\n",
    "        , f.low_52\n",
    "        , f.dividend_amount\n",
    "        , f.pe_ratio\n",
    "        , f.quick_ratio\n",
    "        , f.current_ratio\n",
    "    from td.equities as e\n",
    "    left join td.fundamentals as f \n",
    "        on f.symbol = e.symbol\n",
    "    where e.symbol = 'BA'\n",
    "    order by e.market_datetime\n",
    "    \"\"\"\n",
    "\n",
    "df = utils.query_db(db_connection=utils.DW_STOCKS_JUPYTER, query=query)"
   ]
  },
  {
   "cell_type": "code",
   "execution_count": 4,
   "metadata": {},
   "outputs": [
    {
     "data": {
      "text/html": [
       "<div>\n",
       "<style scoped>\n",
       "    .dataframe tbody tr th:only-of-type {\n",
       "        vertical-align: middle;\n",
       "    }\n",
       "\n",
       "    .dataframe tbody tr th {\n",
       "        vertical-align: top;\n",
       "    }\n",
       "\n",
       "    .dataframe thead th {\n",
       "        text-align: right;\n",
       "    }\n",
       "</style>\n",
       "<table border=\"1\" class=\"dataframe\">\n",
       "  <thead>\n",
       "    <tr style=\"text-align: right;\">\n",
       "      <th></th>\n",
       "      <th>5028</th>\n",
       "      <th>5029</th>\n",
       "      <th>5030</th>\n",
       "      <th>5031</th>\n",
       "      <th>5032</th>\n",
       "    </tr>\n",
       "  </thead>\n",
       "  <tbody>\n",
       "    <tr>\n",
       "      <th>symbol</th>\n",
       "      <td>BA</td>\n",
       "      <td>BA</td>\n",
       "      <td>BA</td>\n",
       "      <td>BA</td>\n",
       "      <td>BA</td>\n",
       "    </tr>\n",
       "    <tr>\n",
       "      <th>market_datetime</th>\n",
       "      <td>2019-08-27 05:00:00</td>\n",
       "      <td>2019-08-28 05:00:00</td>\n",
       "      <td>2019-08-29 05:00:00</td>\n",
       "      <td>2019-08-30 05:00:00</td>\n",
       "      <td>2019-09-03 05:00:00</td>\n",
       "    </tr>\n",
       "    <tr>\n",
       "      <th>open</th>\n",
       "      <td>359.42</td>\n",
       "      <td>353.31</td>\n",
       "      <td>363.85</td>\n",
       "      <td>364.37</td>\n",
       "      <td>354.11</td>\n",
       "    </tr>\n",
       "    <tr>\n",
       "      <th>high</th>\n",
       "      <td>361.309</td>\n",
       "      <td>360.19</td>\n",
       "      <td>366.04</td>\n",
       "      <td>366.37</td>\n",
       "      <td>355.32</td>\n",
       "    </tr>\n",
       "    <tr>\n",
       "      <th>low</th>\n",
       "      <td>353.62</td>\n",
       "      <td>351.18</td>\n",
       "      <td>360.17</td>\n",
       "      <td>362.4</td>\n",
       "      <td>350.605</td>\n",
       "    </tr>\n",
       "    <tr>\n",
       "      <th>close</th>\n",
       "      <td>354.73</td>\n",
       "      <td>359.97</td>\n",
       "      <td>362.74</td>\n",
       "      <td>364.09</td>\n",
       "      <td>354.42</td>\n",
       "    </tr>\n",
       "    <tr>\n",
       "      <th>volume</th>\n",
       "      <td>3.74212e+06</td>\n",
       "      <td>2.4093e+06</td>\n",
       "      <td>2.71832e+06</td>\n",
       "      <td>3.1479e+06</td>\n",
       "      <td>4.27383e+06</td>\n",
       "    </tr>\n",
       "    <tr>\n",
       "      <th>high_52</th>\n",
       "      <td>446.01</td>\n",
       "      <td>446.01</td>\n",
       "      <td>446.01</td>\n",
       "      <td>446.01</td>\n",
       "      <td>446.01</td>\n",
       "    </tr>\n",
       "    <tr>\n",
       "      <th>low_52</th>\n",
       "      <td>292.47</td>\n",
       "      <td>292.47</td>\n",
       "      <td>292.47</td>\n",
       "      <td>292.47</td>\n",
       "      <td>292.47</td>\n",
       "    </tr>\n",
       "    <tr>\n",
       "      <th>dividend_amount</th>\n",
       "      <td>8.22</td>\n",
       "      <td>8.22</td>\n",
       "      <td>8.22</td>\n",
       "      <td>8.22</td>\n",
       "      <td>8.22</td>\n",
       "    </tr>\n",
       "    <tr>\n",
       "      <th>pe_ratio</th>\n",
       "      <td>41.5163</td>\n",
       "      <td>41.5163</td>\n",
       "      <td>41.5163</td>\n",
       "      <td>41.5163</td>\n",
       "      <td>41.5163</td>\n",
       "    </tr>\n",
       "    <tr>\n",
       "      <th>quick_ratio</th>\n",
       "      <td>0.28874</td>\n",
       "      <td>0.28874</td>\n",
       "      <td>0.28874</td>\n",
       "      <td>0.28874</td>\n",
       "      <td>0.28874</td>\n",
       "    </tr>\n",
       "    <tr>\n",
       "      <th>current_ratio</th>\n",
       "      <td>1.0317</td>\n",
       "      <td>1.0317</td>\n",
       "      <td>1.0317</td>\n",
       "      <td>1.0317</td>\n",
       "      <td>1.0317</td>\n",
       "    </tr>\n",
       "  </tbody>\n",
       "</table>\n",
       "</div>"
      ],
      "text/plain": [
       "                                5028                 5029  \\\n",
       "symbol                            BA                   BA   \n",
       "market_datetime  2019-08-27 05:00:00  2019-08-28 05:00:00   \n",
       "open                          359.42               353.31   \n",
       "high                         361.309               360.19   \n",
       "low                           353.62               351.18   \n",
       "close                         354.73               359.97   \n",
       "volume                   3.74212e+06           2.4093e+06   \n",
       "high_52                       446.01               446.01   \n",
       "low_52                        292.47               292.47   \n",
       "dividend_amount                 8.22                 8.22   \n",
       "pe_ratio                     41.5163              41.5163   \n",
       "quick_ratio                  0.28874              0.28874   \n",
       "current_ratio                 1.0317               1.0317   \n",
       "\n",
       "                                5030                 5031                 5032  \n",
       "symbol                            BA                   BA                   BA  \n",
       "market_datetime  2019-08-29 05:00:00  2019-08-30 05:00:00  2019-09-03 05:00:00  \n",
       "open                          363.85               364.37               354.11  \n",
       "high                          366.04               366.37               355.32  \n",
       "low                           360.17                362.4              350.605  \n",
       "close                         362.74               364.09               354.42  \n",
       "volume                   2.71832e+06           3.1479e+06          4.27383e+06  \n",
       "high_52                       446.01               446.01               446.01  \n",
       "low_52                        292.47               292.47               292.47  \n",
       "dividend_amount                 8.22                 8.22                 8.22  \n",
       "pe_ratio                     41.5163              41.5163              41.5163  \n",
       "quick_ratio                  0.28874              0.28874              0.28874  \n",
       "current_ratio                 1.0317               1.0317               1.0317  "
      ]
     },
     "execution_count": 4,
     "metadata": {},
     "output_type": "execute_result"
    }
   ],
   "source": [
    "df.tail().T"
   ]
  },
  {
   "cell_type": "code",
   "execution_count": 5,
   "metadata": {},
   "outputs": [
    {
     "data": {
      "image/png": "[encoded data removed]",
      "text/plain": [
       "<Figure size 432x288 with 1 Axes>"
      ]
     },
     "metadata": {
      "needs_background": "light"
     },
     "output_type": "display_data"
    }
   ],
   "source": [
    "plt.scatter(df['volume'], df['open'])\n",
    "plt.show()"
   ]
  },
  {
   "cell_type": "code",
   "execution_count": 6,
   "metadata": {},
   "outputs": [],
   "source": [
    "query = \"\"\"\n",
    "    select *\n",
    "    from td.options \n",
    "    where symbol = 'BA'\n",
    "    \"\"\"\n",
    "\n",
    "options = utils.query_db(db_connection=utils.DW_STOCKS_JUPYTER, query=query)"
   ]
  },
  {
   "cell_type": "code",
   "execution_count": 7,
   "metadata": {},
   "outputs": [
    {
     "data": {
      "text/html": [
       "<div>\n",
       "<style scoped>\n",
       "    .dataframe tbody tr th:only-of-type {\n",
       "        vertical-align: middle;\n",
       "    }\n",
       "\n",
       "    .dataframe tbody tr th {\n",
       "        vertical-align: top;\n",
       "    }\n",
       "\n",
       "    .dataframe thead th {\n",
       "        text-align: right;\n",
       "    }\n",
       "</style>\n",
       "<table border=\"1\" class=\"dataframe\">\n",
       "  <thead>\n",
       "    <tr style=\"text-align: right;\">\n",
       "      <th></th>\n",
       "      <th>165</th>\n",
       "    </tr>\n",
       "  </thead>\n",
       "  <tbody>\n",
       "    <tr>\n",
       "      <th>symbol</th>\n",
       "      <td>BA</td>\n",
       "    </tr>\n",
       "    <tr>\n",
       "      <th>volatility</th>\n",
       "      <td>29</td>\n",
       "    </tr>\n",
       "    <tr>\n",
       "      <th>n_contracts</th>\n",
       "      <td>1630</td>\n",
       "    </tr>\n",
       "    <tr>\n",
       "      <th>interest_rate</th>\n",
       "      <td>2.42788</td>\n",
       "    </tr>\n",
       "    <tr>\n",
       "      <th>put_call</th>\n",
       "      <td>CALL</td>\n",
       "    </tr>\n",
       "    <tr>\n",
       "      <th>description</th>\n",
       "      <td>BA Sep 20 2019 385 Call</td>\n",
       "    </tr>\n",
       "    <tr>\n",
       "      <th>exchange_name</th>\n",
       "      <td>OPR</td>\n",
       "    </tr>\n",
       "    <tr>\n",
       "      <th>bid</th>\n",
       "      <td>0.58</td>\n",
       "    </tr>\n",
       "    <tr>\n",
       "      <th>ask</th>\n",
       "      <td>0.66</td>\n",
       "    </tr>\n",
       "    <tr>\n",
       "      <th>last</th>\n",
       "      <td>0.61</td>\n",
       "    </tr>\n",
       "    <tr>\n",
       "      <th>mark</th>\n",
       "      <td>0.62</td>\n",
       "    </tr>\n",
       "    <tr>\n",
       "      <th>bid_size</th>\n",
       "      <td>31</td>\n",
       "    </tr>\n",
       "    <tr>\n",
       "      <th>ask_size</th>\n",
       "      <td>40</td>\n",
       "    </tr>\n",
       "    <tr>\n",
       "      <th>bid_ask_size</th>\n",
       "      <td>31X40</td>\n",
       "    </tr>\n",
       "    <tr>\n",
       "      <th>last_size</th>\n",
       "      <td>0</td>\n",
       "    </tr>\n",
       "    <tr>\n",
       "      <th>high_price</th>\n",
       "      <td>0.87</td>\n",
       "    </tr>\n",
       "    <tr>\n",
       "      <th>low_price</th>\n",
       "      <td>0.6</td>\n",
       "    </tr>\n",
       "    <tr>\n",
       "      <th>open_price</th>\n",
       "      <td>0</td>\n",
       "    </tr>\n",
       "    <tr>\n",
       "      <th>close_price</th>\n",
       "      <td>0.74</td>\n",
       "    </tr>\n",
       "    <tr>\n",
       "      <th>total_volume</th>\n",
       "      <td>283</td>\n",
       "    </tr>\n",
       "    <tr>\n",
       "      <th>trade_date</th>\n",
       "      <td>None</td>\n",
       "    </tr>\n",
       "    <tr>\n",
       "      <th>trade_time_in_long</th>\n",
       "      <td>1567625577145.0</td>\n",
       "    </tr>\n",
       "    <tr>\n",
       "      <th>quote_time_in_long</th>\n",
       "      <td>1567627199865.0</td>\n",
       "    </tr>\n",
       "    <tr>\n",
       "      <th>net_change</th>\n",
       "      <td>-0.13</td>\n",
       "    </tr>\n",
       "    <tr>\n",
       "      <th>delta</th>\n",
       "      <td>0.075</td>\n",
       "    </tr>\n",
       "    <tr>\n",
       "      <th>gamma</th>\n",
       "      <td>0.008</td>\n",
       "    </tr>\n",
       "    <tr>\n",
       "      <th>theta</th>\n",
       "      <td>-0.078</td>\n",
       "    </tr>\n",
       "    <tr>\n",
       "      <th>vega</th>\n",
       "      <td>0.109</td>\n",
       "    </tr>\n",
       "    <tr>\n",
       "      <th>rho</th>\n",
       "      <td>0.012</td>\n",
       "    </tr>\n",
       "    <tr>\n",
       "      <th>open_interest</th>\n",
       "      <td>1507</td>\n",
       "    </tr>\n",
       "    <tr>\n",
       "      <th>time_value</th>\n",
       "      <td>0.61</td>\n",
       "    </tr>\n",
       "    <tr>\n",
       "      <th>theoretical_option_value</th>\n",
       "      <td>0.62</td>\n",
       "    </tr>\n",
       "    <tr>\n",
       "      <th>theoretical_volatility</th>\n",
       "      <td>29</td>\n",
       "    </tr>\n",
       "    <tr>\n",
       "      <th>option_deliverable_list</th>\n",
       "      <td>None</td>\n",
       "    </tr>\n",
       "    <tr>\n",
       "      <th>strike_price</th>\n",
       "      <td>385</td>\n",
       "    </tr>\n",
       "    <tr>\n",
       "      <th>expiration_date</th>\n",
       "      <td>1569027600000.0</td>\n",
       "    </tr>\n",
       "    <tr>\n",
       "      <th>days_to_expiration</th>\n",
       "      <td>16</td>\n",
       "    </tr>\n",
       "    <tr>\n",
       "      <th>expiration_type</th>\n",
       "      <td>R</td>\n",
       "    </tr>\n",
       "    <tr>\n",
       "      <th>last_trading_day</th>\n",
       "      <td>1568952000000.0</td>\n",
       "    </tr>\n",
       "    <tr>\n",
       "      <th>multiplier</th>\n",
       "      <td>100</td>\n",
       "    </tr>\n",
       "    <tr>\n",
       "      <th>settlement_type</th>\n",
       "      <td></td>\n",
       "    </tr>\n",
       "    <tr>\n",
       "      <th>deliverable_note</th>\n",
       "      <td>None</td>\n",
       "    </tr>\n",
       "    <tr>\n",
       "      <th>is_index_option</th>\n",
       "      <td>None</td>\n",
       "    </tr>\n",
       "    <tr>\n",
       "      <th>percent_change</th>\n",
       "      <td>-17.65</td>\n",
       "    </tr>\n",
       "    <tr>\n",
       "      <th>mark_change</th>\n",
       "      <td>-0.12</td>\n",
       "    </tr>\n",
       "    <tr>\n",
       "      <th>mark_percent_change</th>\n",
       "      <td>-16.3</td>\n",
       "    </tr>\n",
       "    <tr>\n",
       "      <th>non_standard</th>\n",
       "      <td>False</td>\n",
       "    </tr>\n",
       "    <tr>\n",
       "      <th>mini</th>\n",
       "      <td>False</td>\n",
       "    </tr>\n",
       "    <tr>\n",
       "      <th>in_the_money</th>\n",
       "      <td>False</td>\n",
       "    </tr>\n",
       "    <tr>\n",
       "      <th>expiration_date_from_epoch</th>\n",
       "      <td>2019-09-21 01:00:00</td>\n",
       "    </tr>\n",
       "    <tr>\n",
       "      <th>strike</th>\n",
       "      <td>385</td>\n",
       "    </tr>\n",
       "    <tr>\n",
       "      <th>strike_date</th>\n",
       "      <td>2019-09-20 00:00:00</td>\n",
       "    </tr>\n",
       "    <tr>\n",
       "      <th>days_to_expiration_date</th>\n",
       "      <td>16</td>\n",
       "    </tr>\n",
       "    <tr>\n",
       "      <th>dw_created_at</th>\n",
       "      <td>2019-09-05 02:21:21</td>\n",
       "    </tr>\n",
       "  </tbody>\n",
       "</table>\n",
       "</div>"
      ],
      "text/plain": [
       "                                                165\n",
       "symbol                                           BA\n",
       "volatility                                       29\n",
       "n_contracts                                    1630\n",
       "interest_rate                               2.42788\n",
       "put_call                                       CALL\n",
       "description                 BA Sep 20 2019 385 Call\n",
       "exchange_name                                   OPR\n",
       "bid                                            0.58\n",
       "ask                                            0.66\n",
       "last                                           0.61\n",
       "mark                                           0.62\n",
       "bid_size                                         31\n",
       "ask_size                                         40\n",
       "bid_ask_size                                  31X40\n",
       "last_size                                         0\n",
       "high_price                                     0.87\n",
       "low_price                                       0.6\n",
       "open_price                                        0\n",
       "close_price                                    0.74\n",
       "total_volume                                    283\n",
       "trade_date                                     None\n",
       "trade_time_in_long                  1567625577145.0\n",
       "quote_time_in_long                  1567627199865.0\n",
       "net_change                                    -0.13\n",
       "delta                                         0.075\n",
       "gamma                                         0.008\n",
       "theta                                        -0.078\n",
       "vega                                          0.109\n",
       "rho                                           0.012\n",
       "open_interest                                  1507\n",
       "time_value                                     0.61\n",
       "theoretical_option_value                       0.62\n",
       "theoretical_volatility                           29\n",
       "option_deliverable_list                        None\n",
       "strike_price                                    385\n",
       "expiration_date                     1569027600000.0\n",
       "days_to_expiration                               16\n",
       "expiration_type                                   R\n",
       "last_trading_day                    1568952000000.0\n",
       "multiplier                                      100\n",
       "settlement_type                                    \n",
       "deliverable_note                               None\n",
       "is_index_option                                None\n",
       "percent_change                               -17.65\n",
       "mark_change                                   -0.12\n",
       "mark_percent_change                           -16.3\n",
       "non_standard                                  False\n",
       "mini                                          False\n",
       "in_the_money                                  False\n",
       "expiration_date_from_epoch      2019-09-21 01:00:00\n",
       "strike                                          385\n",
       "strike_date                     2019-09-20 00:00:00\n",
       "days_to_expiration_date                          16\n",
       "dw_created_at                   2019-09-05 02:21:21"
      ]
     },
     "execution_count": 7,
     "metadata": {},
     "output_type": "execute_result"
    }
   ],
   "source": [
    "options[options['description']=='BA Sep 20 2019 385 Call'].T"
   ]
  },
  {
   "cell_type": "code",
   "execution_count": 8,
   "metadata": {},
   "outputs": [],
   "source": [
    "option = financial_utils.BlackScholes(\n",
    "    current_stock_price=356.59,\n",
    "    strike_price=385,\n",
    "    risk_free_rate=1.025,\n",
    "    days_to_maturity=16,\n",
    "    volatility=.5)"
   ]
  },
  {
   "cell_type": "code",
   "execution_count": 9,
   "metadata": {},
   "outputs": [
    {
     "name": "stdout",
     "output_type": "stream",
     "text": [
      "Theoretical option price: $5.33\n"
     ]
    }
   ],
   "source": [
    "print('Theoretical option price: $' + str(round(option.option_price, 2)))"
   ]
  },
  {
   "cell_type": "code",
   "execution_count": 10,
   "metadata": {},
   "outputs": [
    {
     "data": {
      "image/png": "[encoded data removed]",
      "text/plain": [
       "<Figure size 432x288 with 1 Axes>"
      ]
     },
     "metadata": {
      "needs_background": "light"
     },
     "output_type": "display_data"
    }
   ],
   "source": [
    "deltas = option.get_greek(greek='delta', steps=90)\n",
    "plt.plot(deltas, marker='.')\n",
    "plt.show()"
   ]
  },
  {
   "cell_type": "code",
   "execution_count": 11,
   "metadata": {},
   "outputs": [
    {
     "data": {
      "image/png": "[encoded data removed]",
      "text/plain": [
       "<Figure size 432x288 with 1 Axes>"
      ]
     },
     "metadata": {
      "needs_background": "light"
     },
     "output_type": "display_data"
    }
   ],
   "source": [
    "ros = option.get_greek(greek='ro', steps=90)\n",
    "plt.plot(ros, marker='.')\n",
    "plt.show()"
   ]
  },
  {
   "cell_type": "code",
   "execution_count": 13,
   "metadata": {},
   "outputs": [
    {
     "data": {
      "image/png": "[encoded data removed]",
      "text/plain": [
       "<Figure size 432x288 with 1 Axes>"
      ]
     },
     "metadata": {
      "needs_background": "light"
     },
     "output_type": "display_data"
    }
   ],
   "source": [
    "thetas = option.get_greek('theta', steps=60)\n",
    "plt.plot(thetas, marker='.')\n",
    "plt.show()"
   ]
  },
  {
   "cell_type": "code",
   "execution_count": 14,
   "metadata": {},
   "outputs": [
    {
     "data": {
      "image/png": "[encoded data removed]",
      "text/plain": [
       "<Figure size 432x288 with 1 Axes>"
      ]
     },
     "metadata": {
      "needs_background": "light"
     },
     "output_type": "display_data"
    }
   ],
   "source": [
    "vegas = option.vega(steps=90)\n",
    "plt.plot(vegas, marker='.')\n",
    "plt.show()"
   ]
  },
  {
   "cell_type": "code",
   "execution_count": null,
   "metadata": {},
   "outputs": [],
   "source": []
  },
  {
   "cell_type": "code",
   "execution_count": null,
   "metadata": {},
   "outputs": [],
   "source": []
  },
  {
   "cell_type": "code",
   "execution_count": 10,
   "metadata": {},
   "outputs": [
    {
     "data": {
      "image/png": "[encoded data removed]",
      "text/plain": [
       "<Figure size 432x288 with 1 Axes>"
      ]
     },
     "metadata": {
      "needs_background": "light"
     },
     "output_type": "display_data"
    }
   ],
   "source": [
    "plt.scatter(options['days_to_expiration_date'], options['theta'], marker='.')\n",
    "plt.show()"
   ]
  },
  {
   "cell_type": "code",
   "execution_count": null,
   "metadata": {},
   "outputs": [],
   "source": []
  },
  {
   "cell_type": "code",
   "execution_count": null,
   "metadata": {},
   "outputs": [],
   "source": []
  },
  {
   "cell_type": "code",
   "execution_count": null,
   "metadata": {},
   "outputs": [],
   "source": []
  },
  {
   "cell_type": "code",
   "execution_count": null,
   "metadata": {},
   "outputs": [],
   "source": []
  }
 ],
 "metadata": {
  "kernelspec": {
   "display_name": "Python 3",
   "language": "python",
   "name": "python3"
  },
  "language_info": {
   "codemirror_mode": {
    "name": "ipython",
    "version": 3
   },
   "file_extension": ".py",
   "mimetype": "text/x-python",
   "name": "python",
   "nbconvert_exporter": "python",
   "pygments_lexer": "ipython3",
   "version": "3.7.3"
  }
 },
 "nbformat": 4,
 "nbformat_minor": 2
}
